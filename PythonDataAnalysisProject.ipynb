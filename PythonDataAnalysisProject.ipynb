{
  "nbformat": 4,
  "nbformat_minor": 0,
  "metadata": {
    "colab": {
      "provenance": [],
      "include_colab_link": true
    },
    "kernelspec": {
      "name": "python3",
      "display_name": "Python 3"
    },
    "language_info": {
      "name": "python"
    }
  },
  "cells": [
    {
      "cell_type": "markdown",
      "metadata": {
        "id": "view-in-github",
        "colab_type": "text"
      },
      "source": [
        "<a href=\"https://colab.research.google.com/github/dwishashah/Python-Mini-Project/blob/main/PythonDataAnalysisProject.ipynb\" target=\"_parent\"><img src=\"https://colab.research.google.com/assets/colab-badge.svg\" alt=\"Open In Colab\"/></a>"
      ]
    },
    {
      "cell_type": "markdown",
      "source": [
        "# **IMPORTING** **DATASET**"
      ],
      "metadata": {
        "id": "Ysz5udrUfSK1"
      }
    },
    {
      "cell_type": "code",
      "execution_count": null,
      "metadata": {
        "id": "W1i4_gcQfKB5"
      },
      "outputs": [],
      "source": [
        "import numpy as np\n",
        "import pandas as pd"
      ]
    },
    {
      "cell_type": "code",
      "source": [
        "df=pd.read_csv('/content/Data-Table 1.csv')\n",
        "df.info()\n",
        "df.head()"
      ],
      "metadata": {
        "colab": {
          "base_uri": "https://localhost:8080/",
          "height": 671
        },
        "id": "ImRrqe9yfRC9",
        "outputId": "1a20ab50-234e-47d3-d083-6d4977cc071e"
      },
      "execution_count": null,
      "outputs": [
        {
          "output_type": "stream",
          "name": "stdout",
          "text": [
            "<class 'pandas.core.frame.DataFrame'>\n",
            "RangeIndex: 1534 entries, 0 to 1533\n",
            "Columns: 108 entries, Name to Endowment assets (year end) per FTE enrollment (FASB)\n",
            "dtypes: float64(97), object(11)\n",
            "memory usage: 1.3+ MB\n"
          ]
        },
        {
          "output_type": "execute_result",
          "data": {
            "text/plain": [
              "                                  Name  Applicants total  Admissions total  \\\n",
              "0             Alabama A & M University            6142.0            5521.0   \n",
              "1  University of Alabama at Birmingham            5689.0            4934.0   \n",
              "2                   Amridge University               NaN               NaN   \n",
              "3  University of Alabama in Huntsville            2054.0            1656.0   \n",
              "4             Alabama State University           10245.0            5251.0   \n",
              "\n",
              "   Enrolled total  Percent of freshmen submitting SAT scores  \\\n",
              "0          1104.0                                       15.0   \n",
              "1          1773.0                                        6.0   \n",
              "2             NaN                                        NaN   \n",
              "3           651.0                                       34.0   \n",
              "4          1479.0                                       18.0   \n",
              "\n",
              "   Percent of freshmen submitting ACT scores  \\\n",
              "0                                       88.0   \n",
              "1                                       93.0   \n",
              "2                                        NaN   \n",
              "3                                       94.0   \n",
              "4                                       87.0   \n",
              "\n",
              "   SAT Critical Reading 25th percentile score  \\\n",
              "0                                       370.0   \n",
              "1                                       520.0   \n",
              "2                                         NaN   \n",
              "3                                       510.0   \n",
              "4                                       380.0   \n",
              "\n",
              "   SAT Critical Reading 75th percentile score  SAT Math 25th percentile score  \\\n",
              "0                                       450.0                           350.0   \n",
              "1                                       640.0                           520.0   \n",
              "2                                         NaN                             NaN   \n",
              "3                                       640.0                           510.0   \n",
              "4                                       480.0                           370.0   \n",
              "\n",
              "   SAT Math 75th percentile score  ...  \\\n",
              "0                           450.0  ...   \n",
              "1                           650.0  ...   \n",
              "2                             NaN  ...   \n",
              "3                           650.0  ...   \n",
              "4                           480.0  ...   \n",
              "\n",
              "   Percent of freshmen  receiving federal grant aid  \\\n",
              "0                                              81.0   \n",
              "1                                              36.0   \n",
              "2                                              90.0   \n",
              "3                                              31.0   \n",
              "4                                              76.0   \n",
              "\n",
              "   Percent of freshmen receiving Pell grants  \\\n",
              "0                                       81.0   \n",
              "1                                       36.0   \n",
              "2                                       90.0   \n",
              "3                                       31.0   \n",
              "4                                       76.0   \n",
              "\n",
              "   Percent of freshmen receiving other federal grant aid  \\\n",
              "0                                                7.0       \n",
              "1                                               10.0       \n",
              "2                                                0.0       \n",
              "3                                                4.0       \n",
              "4                                               13.0       \n",
              "\n",
              "   Percent of freshmen receiving state/local grant aid  \\\n",
              "0                                                1.0     \n",
              "1                                                0.0     \n",
              "2                                               40.0     \n",
              "3                                                1.0     \n",
              "4                                               11.0     \n",
              "\n",
              "   Percent of freshmen receiving institutional grant aid  \\\n",
              "0                                               32.0       \n",
              "1                                               60.0       \n",
              "2                                               90.0       \n",
              "3                                               63.0       \n",
              "4                                               34.0       \n",
              "\n",
              "   Percent of freshmen receiving student loan aid  \\\n",
              "0                                            89.0   \n",
              "1                                            56.0   \n",
              "2                                           100.0   \n",
              "3                                            46.0   \n",
              "4                                            81.0   \n",
              "\n",
              "   Percent of freshmen receiving federal student loans  \\\n",
              "0                                               89.0     \n",
              "1                                               55.0     \n",
              "2                                              100.0     \n",
              "3                                               46.0     \n",
              "4                                               81.0     \n",
              "\n",
              "   Percent of freshmen receiving other loan aid  \\\n",
              "0                                           1.0   \n",
              "1                                           5.0   \n",
              "2                                           0.0   \n",
              "3                                           3.0   \n",
              "4                                           0.0   \n",
              "\n",
              "   Endowment assets (year end) per FTE enrollment (GASB)  \\\n",
              "0                                                NaN       \n",
              "1                                            24136.0       \n",
              "2                                                NaN       \n",
              "3                                            11502.0       \n",
              "4                                            13202.0       \n",
              "\n",
              "   Endowment assets (year end) per FTE enrollment (FASB)  \n",
              "0                                                NaN      \n",
              "1                                                NaN      \n",
              "2                                              302.0      \n",
              "3                                                NaN      \n",
              "4                                                NaN      \n",
              "\n",
              "[5 rows x 108 columns]"
            ],
            "text/html": [
              "\n",
              "  <div id=\"df-b2030c45-0470-4047-a50a-697842770cef\">\n",
              "    <div class=\"colab-df-container\">\n",
              "      <div>\n",
              "<style scoped>\n",
              "    .dataframe tbody tr th:only-of-type {\n",
              "        vertical-align: middle;\n",
              "    }\n",
              "\n",
              "    .dataframe tbody tr th {\n",
              "        vertical-align: top;\n",
              "    }\n",
              "\n",
              "    .dataframe thead th {\n",
              "        text-align: right;\n",
              "    }\n",
              "</style>\n",
              "<table border=\"1\" class=\"dataframe\">\n",
              "  <thead>\n",
              "    <tr style=\"text-align: right;\">\n",
              "      <th></th>\n",
              "      <th>Name</th>\n",
              "      <th>Applicants total</th>\n",
              "      <th>Admissions total</th>\n",
              "      <th>Enrolled total</th>\n",
              "      <th>Percent of freshmen submitting SAT scores</th>\n",
              "      <th>Percent of freshmen submitting ACT scores</th>\n",
              "      <th>SAT Critical Reading 25th percentile score</th>\n",
              "      <th>SAT Critical Reading 75th percentile score</th>\n",
              "      <th>SAT Math 25th percentile score</th>\n",
              "      <th>SAT Math 75th percentile score</th>\n",
              "      <th>...</th>\n",
              "      <th>Percent of freshmen  receiving federal grant aid</th>\n",
              "      <th>Percent of freshmen receiving Pell grants</th>\n",
              "      <th>Percent of freshmen receiving other federal grant aid</th>\n",
              "      <th>Percent of freshmen receiving state/local grant aid</th>\n",
              "      <th>Percent of freshmen receiving institutional grant aid</th>\n",
              "      <th>Percent of freshmen receiving student loan aid</th>\n",
              "      <th>Percent of freshmen receiving federal student loans</th>\n",
              "      <th>Percent of freshmen receiving other loan aid</th>\n",
              "      <th>Endowment assets (year end) per FTE enrollment (GASB)</th>\n",
              "      <th>Endowment assets (year end) per FTE enrollment (FASB)</th>\n",
              "    </tr>\n",
              "  </thead>\n",
              "  <tbody>\n",
              "    <tr>\n",
              "      <th>0</th>\n",
              "      <td>Alabama A &amp; M University</td>\n",
              "      <td>6142.0</td>\n",
              "      <td>5521.0</td>\n",
              "      <td>1104.0</td>\n",
              "      <td>15.0</td>\n",
              "      <td>88.0</td>\n",
              "      <td>370.0</td>\n",
              "      <td>450.0</td>\n",
              "      <td>350.0</td>\n",
              "      <td>450.0</td>\n",
              "      <td>...</td>\n",
              "      <td>81.0</td>\n",
              "      <td>81.0</td>\n",
              "      <td>7.0</td>\n",
              "      <td>1.0</td>\n",
              "      <td>32.0</td>\n",
              "      <td>89.0</td>\n",
              "      <td>89.0</td>\n",
              "      <td>1.0</td>\n",
              "      <td>NaN</td>\n",
              "      <td>NaN</td>\n",
              "    </tr>\n",
              "    <tr>\n",
              "      <th>1</th>\n",
              "      <td>University of Alabama at Birmingham</td>\n",
              "      <td>5689.0</td>\n",
              "      <td>4934.0</td>\n",
              "      <td>1773.0</td>\n",
              "      <td>6.0</td>\n",
              "      <td>93.0</td>\n",
              "      <td>520.0</td>\n",
              "      <td>640.0</td>\n",
              "      <td>520.0</td>\n",
              "      <td>650.0</td>\n",
              "      <td>...</td>\n",
              "      <td>36.0</td>\n",
              "      <td>36.0</td>\n",
              "      <td>10.0</td>\n",
              "      <td>0.0</td>\n",
              "      <td>60.0</td>\n",
              "      <td>56.0</td>\n",
              "      <td>55.0</td>\n",
              "      <td>5.0</td>\n",
              "      <td>24136.0</td>\n",
              "      <td>NaN</td>\n",
              "    </tr>\n",
              "    <tr>\n",
              "      <th>2</th>\n",
              "      <td>Amridge University</td>\n",
              "      <td>NaN</td>\n",
              "      <td>NaN</td>\n",
              "      <td>NaN</td>\n",
              "      <td>NaN</td>\n",
              "      <td>NaN</td>\n",
              "      <td>NaN</td>\n",
              "      <td>NaN</td>\n",
              "      <td>NaN</td>\n",
              "      <td>NaN</td>\n",
              "      <td>...</td>\n",
              "      <td>90.0</td>\n",
              "      <td>90.0</td>\n",
              "      <td>0.0</td>\n",
              "      <td>40.0</td>\n",
              "      <td>90.0</td>\n",
              "      <td>100.0</td>\n",
              "      <td>100.0</td>\n",
              "      <td>0.0</td>\n",
              "      <td>NaN</td>\n",
              "      <td>302.0</td>\n",
              "    </tr>\n",
              "    <tr>\n",
              "      <th>3</th>\n",
              "      <td>University of Alabama in Huntsville</td>\n",
              "      <td>2054.0</td>\n",
              "      <td>1656.0</td>\n",
              "      <td>651.0</td>\n",
              "      <td>34.0</td>\n",
              "      <td>94.0</td>\n",
              "      <td>510.0</td>\n",
              "      <td>640.0</td>\n",
              "      <td>510.0</td>\n",
              "      <td>650.0</td>\n",
              "      <td>...</td>\n",
              "      <td>31.0</td>\n",
              "      <td>31.0</td>\n",
              "      <td>4.0</td>\n",
              "      <td>1.0</td>\n",
              "      <td>63.0</td>\n",
              "      <td>46.0</td>\n",
              "      <td>46.0</td>\n",
              "      <td>3.0</td>\n",
              "      <td>11502.0</td>\n",
              "      <td>NaN</td>\n",
              "    </tr>\n",
              "    <tr>\n",
              "      <th>4</th>\n",
              "      <td>Alabama State University</td>\n",
              "      <td>10245.0</td>\n",
              "      <td>5251.0</td>\n",
              "      <td>1479.0</td>\n",
              "      <td>18.0</td>\n",
              "      <td>87.0</td>\n",
              "      <td>380.0</td>\n",
              "      <td>480.0</td>\n",
              "      <td>370.0</td>\n",
              "      <td>480.0</td>\n",
              "      <td>...</td>\n",
              "      <td>76.0</td>\n",
              "      <td>76.0</td>\n",
              "      <td>13.0</td>\n",
              "      <td>11.0</td>\n",
              "      <td>34.0</td>\n",
              "      <td>81.0</td>\n",
              "      <td>81.0</td>\n",
              "      <td>0.0</td>\n",
              "      <td>13202.0</td>\n",
              "      <td>NaN</td>\n",
              "    </tr>\n",
              "  </tbody>\n",
              "</table>\n",
              "<p>5 rows × 108 columns</p>\n",
              "</div>\n",
              "      <button class=\"colab-df-convert\" onclick=\"convertToInteractive('df-b2030c45-0470-4047-a50a-697842770cef')\"\n",
              "              title=\"Convert this dataframe to an interactive table.\"\n",
              "              style=\"display:none;\">\n",
              "        \n",
              "  <svg xmlns=\"http://www.w3.org/2000/svg\" height=\"24px\"viewBox=\"0 0 24 24\"\n",
              "       width=\"24px\">\n",
              "    <path d=\"M0 0h24v24H0V0z\" fill=\"none\"/>\n",
              "    <path d=\"M18.56 5.44l.94 2.06.94-2.06 2.06-.94-2.06-.94-.94-2.06-.94 2.06-2.06.94zm-11 1L8.5 8.5l.94-2.06 2.06-.94-2.06-.94L8.5 2.5l-.94 2.06-2.06.94zm10 10l.94 2.06.94-2.06 2.06-.94-2.06-.94-.94-2.06-.94 2.06-2.06.94z\"/><path d=\"M17.41 7.96l-1.37-1.37c-.4-.4-.92-.59-1.43-.59-.52 0-1.04.2-1.43.59L10.3 9.45l-7.72 7.72c-.78.78-.78 2.05 0 2.83L4 21.41c.39.39.9.59 1.41.59.51 0 1.02-.2 1.41-.59l7.78-7.78 2.81-2.81c.8-.78.8-2.07 0-2.86zM5.41 20L4 18.59l7.72-7.72 1.47 1.35L5.41 20z\"/>\n",
              "  </svg>\n",
              "      </button>\n",
              "      \n",
              "  <style>\n",
              "    .colab-df-container {\n",
              "      display:flex;\n",
              "      flex-wrap:wrap;\n",
              "      gap: 12px;\n",
              "    }\n",
              "\n",
              "    .colab-df-convert {\n",
              "      background-color: #E8F0FE;\n",
              "      border: none;\n",
              "      border-radius: 50%;\n",
              "      cursor: pointer;\n",
              "      display: none;\n",
              "      fill: #1967D2;\n",
              "      height: 32px;\n",
              "      padding: 0 0 0 0;\n",
              "      width: 32px;\n",
              "    }\n",
              "\n",
              "    .colab-df-convert:hover {\n",
              "      background-color: #E2EBFA;\n",
              "      box-shadow: 0px 1px 2px rgba(60, 64, 67, 0.3), 0px 1px 3px 1px rgba(60, 64, 67, 0.15);\n",
              "      fill: #174EA6;\n",
              "    }\n",
              "\n",
              "    [theme=dark] .colab-df-convert {\n",
              "      background-color: #3B4455;\n",
              "      fill: #D2E3FC;\n",
              "    }\n",
              "\n",
              "    [theme=dark] .colab-df-convert:hover {\n",
              "      background-color: #434B5C;\n",
              "      box-shadow: 0px 1px 3px 1px rgba(0, 0, 0, 0.15);\n",
              "      filter: drop-shadow(0px 1px 2px rgba(0, 0, 0, 0.3));\n",
              "      fill: #FFFFFF;\n",
              "    }\n",
              "  </style>\n",
              "\n",
              "      <script>\n",
              "        const buttonEl =\n",
              "          document.querySelector('#df-b2030c45-0470-4047-a50a-697842770cef button.colab-df-convert');\n",
              "        buttonEl.style.display =\n",
              "          google.colab.kernel.accessAllowed ? 'block' : 'none';\n",
              "\n",
              "        async function convertToInteractive(key) {\n",
              "          const element = document.querySelector('#df-b2030c45-0470-4047-a50a-697842770cef');\n",
              "          const dataTable =\n",
              "            await google.colab.kernel.invokeFunction('convertToInteractive',\n",
              "                                                     [key], {});\n",
              "          if (!dataTable) return;\n",
              "\n",
              "          const docLinkHtml = 'Like what you see? Visit the ' +\n",
              "            '<a target=\"_blank\" href=https://colab.research.google.com/notebooks/data_table.ipynb>data table notebook</a>'\n",
              "            + ' to learn more about interactive tables.';\n",
              "          element.innerHTML = '';\n",
              "          dataTable['output_type'] = 'display_data';\n",
              "          await google.colab.output.renderOutput(dataTable, element);\n",
              "          const docLink = document.createElement('div');\n",
              "          docLink.innerHTML = docLinkHtml;\n",
              "          element.appendChild(docLink);\n",
              "        }\n",
              "      </script>\n",
              "    </div>\n",
              "  </div>\n",
              "  "
            ]
          },
          "metadata": {},
          "execution_count": 2
        }
      ]
    },
    {
      "cell_type": "code",
      "source": [],
      "metadata": {
        "id": "IZmfQP4mvh4M"
      },
      "execution_count": null,
      "outputs": []
    },
    {
      "cell_type": "markdown",
      "source": [
        "# **DATASET SIZE**"
      ],
      "metadata": {
        "id": "b1wB7ioZg2G5"
      }
    },
    {
      "cell_type": "code",
      "source": [
        "df.shape\n"
      ],
      "metadata": {
        "colab": {
          "base_uri": "https://localhost:8080/"
        },
        "id": "yUFWtRHBg8n1",
        "outputId": "56fd5b6e-4af1-4a8f-fcb8-7d6d6c398430"
      },
      "execution_count": null,
      "outputs": [
        {
          "output_type": "execute_result",
          "data": {
            "text/plain": [
              "(1534, 108)"
            ]
          },
          "metadata": {},
          "execution_count": 3
        }
      ]
    },
    {
      "cell_type": "code",
      "source": [
        "df.columns"
      ],
      "metadata": {
        "colab": {
          "base_uri": "https://localhost:8080/"
        },
        "id": "gnRZPdWshI14",
        "outputId": "8a802246-fcc1-4a55-c22d-5e5c4ce8a9e9"
      },
      "execution_count": null,
      "outputs": [
        {
          "output_type": "execute_result",
          "data": {
            "text/plain": [
              "Index(['NAME', 'APPLICANTS TOTAL', 'ADMISSIONS TOTAL', 'ENROLLED TOTAL',\n",
              "       'PERCENT OF FRESHMEN SUBMITTING SAT SCORES',\n",
              "       'PERCENT OF FRESHMEN SUBMITTING ACT SCORES',\n",
              "       'SAT CRITICAL READING 25TH PERCENTILE SCORE',\n",
              "       'SAT CRITICAL READING 75TH PERCENTILE SCORE',\n",
              "       'SAT MATH 25TH PERCENTILE SCORE', 'SAT MATH 75TH PERCENTILE SCORE',\n",
              "       ...\n",
              "       'PERCENT OF FRESHMEN  RECEIVING FEDERAL GRANT AID',\n",
              "       'PERCENT OF FRESHMEN RECEIVING PELL GRANTS',\n",
              "       'PERCENT OF FRESHMEN RECEIVING OTHER FEDERAL GRANT AID',\n",
              "       'PERCENT OF FRESHMEN RECEIVING STATE/LOCAL GRANT AID',\n",
              "       'PERCENT OF FRESHMEN RECEIVING INSTITUTIONAL GRANT AID',\n",
              "       'PERCENT OF FRESHMEN RECEIVING STUDENT LOAN AID',\n",
              "       'PERCENT OF FRESHMEN RECEIVING FEDERAL STUDENT LOANS',\n",
              "       'PERCENT OF FRESHMEN RECEIVING OTHER LOAN AID',\n",
              "       'ENDOWMENT ASSETS (YEAR END) PER FTE ENROLLMENT (GASB)',\n",
              "       'ENDOWMENT ASSETS (YEAR END) PER FTE ENROLLMENT (FASB)'],\n",
              "      dtype='object', length=108)"
            ]
          },
          "metadata": {},
          "execution_count": 15
        }
      ]
    },
    {
      "cell_type": "markdown",
      "source": [
        "# **DATA CLEANING**"
      ],
      "metadata": {
        "id": "MRsCc5KSmk40"
      }
    },
    {
      "cell_type": "markdown",
      "source": [
        "Common Issues with Data\n",
        "\n",
        "\n",
        "1. Inconsistent Column Names\n",
        "2. Missing Data\n",
        "3. Different Datatypes\n",
        "4. Duplicate Rows\n",
        "\n",
        "\n",
        "\n"
      ],
      "metadata": {
        "id": "4l-i8z2Pmtmo"
      }
    },
    {
      "cell_type": "markdown",
      "source": [
        "# **1. INCONSISTENT COLUMN NAMES**"
      ],
      "metadata": {
        "id": "E1p1Q8tMnz65"
      }
    },
    {
      "cell_type": "markdown",
      "source": [
        "1. Change Cases\n",
        "2. Rename them"
      ],
      "metadata": {
        "id": "33QAK4uyn-RM"
      }
    },
    {
      "cell_type": "code",
      "source": [
        "df.columns = df.columns.str.upper()\n",
        "df.columns"
      ],
      "metadata": {
        "colab": {
          "base_uri": "https://localhost:8080/"
        },
        "id": "tM0bW0KlmpWT",
        "outputId": "a2236d7b-a046-499b-8636-3e1395501faf"
      },
      "execution_count": null,
      "outputs": [
        {
          "output_type": "execute_result",
          "data": {
            "text/plain": [
              "Index(['NAME', 'APPLICANTS TOTAL', 'ADMISSIONS TOTAL', 'ENROLLED TOTAL',\n",
              "       'PERCENT OF FRESHMEN SUBMITTING SAT SCORES',\n",
              "       'PERCENT OF FRESHMEN SUBMITTING ACT SCORES',\n",
              "       'SAT CRITICAL READING 25TH PERCENTILE SCORE',\n",
              "       'SAT CRITICAL READING 75TH PERCENTILE SCORE',\n",
              "       'SAT MATH 25TH PERCENTILE SCORE', 'SAT MATH 75TH PERCENTILE SCORE',\n",
              "       ...\n",
              "       'PERCENT OF FRESHMEN  RECEIVING FEDERAL GRANT AID',\n",
              "       'PERCENT OF FRESHMEN RECEIVING PELL GRANTS',\n",
              "       'PERCENT OF FRESHMEN RECEIVING OTHER FEDERAL GRANT AID',\n",
              "       'PERCENT OF FRESHMEN RECEIVING STATE/LOCAL GRANT AID',\n",
              "       'PERCENT OF FRESHMEN RECEIVING INSTITUTIONAL GRANT AID',\n",
              "       'PERCENT OF FRESHMEN RECEIVING STUDENT LOAN AID',\n",
              "       'PERCENT OF FRESHMEN RECEIVING FEDERAL STUDENT LOANS',\n",
              "       'PERCENT OF FRESHMEN RECEIVING OTHER LOAN AID',\n",
              "       'ENDOWMENT ASSETS (YEAR END) PER FTE ENROLLMENT (GASB)',\n",
              "       'ENDOWMENT ASSETS (YEAR END) PER FTE ENROLLMENT (FASB)'],\n",
              "      dtype='object', length=108)"
            ]
          },
          "metadata": {},
          "execution_count": 16
        }
      ]
    },
    {
      "cell_type": "code",
      "source": [
        "df = df.rename(columns = {'ADMISSIONS TOTAL':'ADMISSIONS_TOTAL'})"
      ],
      "metadata": {
        "id": "xaqWCWi-o8x4"
      },
      "execution_count": null,
      "outputs": []
    },
    {
      "cell_type": "markdown",
      "source": [
        "# **2. MISSING VALUES**"
      ],
      "metadata": {
        "id": "yP65_AcIqG7L"
      }
    },
    {
      "cell_type": "markdown",
      "source": [
        "1.   Add a default value for missing data or use mean to fill it\n",
        "2.   Delete the row/column with missing data\n",
        "3.   Interpolate the rows\n",
        "4.   Replace\n",
        "\n",
        "To check for missing data\n",
        "\n",
        "False means no missing data\n",
        "\n",
        "df.isnull().sum() int df.isnull().any() bool\n",
        "\n"
      ],
      "metadata": {
        "id": "osjwue5nqWEf"
      }
    },
    {
      "cell_type": "code",
      "source": [
        "df.isnull()"
      ],
      "metadata": {
        "colab": {
          "base_uri": "https://localhost:8080/",
          "height": 585
        },
        "id": "phvbgppoqL0P",
        "outputId": "7a487260-71a4-49f4-82b0-61809152fa3f"
      },
      "execution_count": null,
      "outputs": [
        {
          "output_type": "execute_result",
          "data": {
            "text/plain": [
              "       NAME  APPLICANTS TOTAL  ADMISSIONS TOTAL  ENROLLED TOTAL  \\\n",
              "0     False             False             False           False   \n",
              "1     False             False             False           False   \n",
              "2     False              True              True            True   \n",
              "3     False             False             False           False   \n",
              "4     False             False             False           False   \n",
              "...     ...               ...               ...             ...   \n",
              "1529  False             False             False           False   \n",
              "1530  False             False             False           False   \n",
              "1531  False              True              True            True   \n",
              "1532  False             False             False           False   \n",
              "1533  False              True              True            True   \n",
              "\n",
              "      PERCENT OF FRESHMEN SUBMITTING SAT SCORES  \\\n",
              "0                                         False   \n",
              "1                                         False   \n",
              "2                                          True   \n",
              "3                                         False   \n",
              "4                                         False   \n",
              "...                                         ...   \n",
              "1529                                      False   \n",
              "1530                                      False   \n",
              "1531                                       True   \n",
              "1532                                       True   \n",
              "1533                                       True   \n",
              "\n",
              "      PERCENT OF FRESHMEN SUBMITTING ACT SCORES  \\\n",
              "0                                         False   \n",
              "1                                         False   \n",
              "2                                          True   \n",
              "3                                         False   \n",
              "4                                         False   \n",
              "...                                         ...   \n",
              "1529                                      False   \n",
              "1530                                      False   \n",
              "1531                                       True   \n",
              "1532                                       True   \n",
              "1533                                       True   \n",
              "\n",
              "      SAT CRITICAL READING 25TH PERCENTILE SCORE  \\\n",
              "0                                          False   \n",
              "1                                          False   \n",
              "2                                           True   \n",
              "3                                          False   \n",
              "4                                          False   \n",
              "...                                          ...   \n",
              "1529                                       False   \n",
              "1530                                       False   \n",
              "1531                                        True   \n",
              "1532                                        True   \n",
              "1533                                        True   \n",
              "\n",
              "      SAT CRITICAL READING 75TH PERCENTILE SCORE  \\\n",
              "0                                          False   \n",
              "1                                          False   \n",
              "2                                           True   \n",
              "3                                          False   \n",
              "4                                          False   \n",
              "...                                          ...   \n",
              "1529                                       False   \n",
              "1530                                       False   \n",
              "1531                                        True   \n",
              "1532                                        True   \n",
              "1533                                        True   \n",
              "\n",
              "      SAT MATH 25TH PERCENTILE SCORE  SAT MATH 75TH PERCENTILE SCORE  ...  \\\n",
              "0                              False                           False  ...   \n",
              "1                              False                           False  ...   \n",
              "2                               True                            True  ...   \n",
              "3                              False                           False  ...   \n",
              "4                              False                           False  ...   \n",
              "...                              ...                             ...  ...   \n",
              "1529                           False                           False  ...   \n",
              "1530                           False                           False  ...   \n",
              "1531                            True                            True  ...   \n",
              "1532                            True                            True  ...   \n",
              "1533                            True                            True  ...   \n",
              "\n",
              "      PERCENT OF FRESHMEN  RECEIVING FEDERAL GRANT AID  \\\n",
              "0                                                False   \n",
              "1                                                False   \n",
              "2                                                False   \n",
              "3                                                False   \n",
              "4                                                False   \n",
              "...                                                ...   \n",
              "1529                                              True   \n",
              "1530                                             False   \n",
              "1531                                              True   \n",
              "1532                                             False   \n",
              "1533                                             False   \n",
              "\n",
              "      PERCENT OF FRESHMEN RECEIVING PELL GRANTS  \\\n",
              "0                                         False   \n",
              "1                                         False   \n",
              "2                                         False   \n",
              "3                                         False   \n",
              "4                                         False   \n",
              "...                                         ...   \n",
              "1529                                       True   \n",
              "1530                                      False   \n",
              "1531                                       True   \n",
              "1532                                      False   \n",
              "1533                                      False   \n",
              "\n",
              "      PERCENT OF FRESHMEN RECEIVING OTHER FEDERAL GRANT AID  \\\n",
              "0                                                 False       \n",
              "1                                                 False       \n",
              "2                                                 False       \n",
              "3                                                 False       \n",
              "4                                                 False       \n",
              "...                                                 ...       \n",
              "1529                                               True       \n",
              "1530                                              False       \n",
              "1531                                               True       \n",
              "1532                                              False       \n",
              "1533                                              False       \n",
              "\n",
              "      PERCENT OF FRESHMEN RECEIVING STATE/LOCAL GRANT AID  \\\n",
              "0                                                 False     \n",
              "1                                                 False     \n",
              "2                                                 False     \n",
              "3                                                 False     \n",
              "4                                                 False     \n",
              "...                                                 ...     \n",
              "1529                                               True     \n",
              "1530                                              False     \n",
              "1531                                               True     \n",
              "1532                                              False     \n",
              "1533                                              False     \n",
              "\n",
              "      PERCENT OF FRESHMEN RECEIVING INSTITUTIONAL GRANT AID  \\\n",
              "0                                                 False       \n",
              "1                                                 False       \n",
              "2                                                 False       \n",
              "3                                                 False       \n",
              "4                                                 False       \n",
              "...                                                 ...       \n",
              "1529                                               True       \n",
              "1530                                              False       \n",
              "1531                                               True       \n",
              "1532                                              False       \n",
              "1533                                              False       \n",
              "\n",
              "      PERCENT OF FRESHMEN RECEIVING STUDENT LOAN AID  \\\n",
              "0                                              False   \n",
              "1                                              False   \n",
              "2                                              False   \n",
              "3                                              False   \n",
              "4                                              False   \n",
              "...                                              ...   \n",
              "1529                                            True   \n",
              "1530                                           False   \n",
              "1531                                            True   \n",
              "1532                                           False   \n",
              "1533                                           False   \n",
              "\n",
              "      PERCENT OF FRESHMEN RECEIVING FEDERAL STUDENT LOANS  \\\n",
              "0                                                 False     \n",
              "1                                                 False     \n",
              "2                                                 False     \n",
              "3                                                 False     \n",
              "4                                                 False     \n",
              "...                                                 ...     \n",
              "1529                                               True     \n",
              "1530                                              False     \n",
              "1531                                               True     \n",
              "1532                                              False     \n",
              "1533                                              False     \n",
              "\n",
              "      PERCENT OF FRESHMEN RECEIVING OTHER LOAN AID  \\\n",
              "0                                            False   \n",
              "1                                            False   \n",
              "2                                            False   \n",
              "3                                            False   \n",
              "4                                            False   \n",
              "...                                            ...   \n",
              "1529                                          True   \n",
              "1530                                         False   \n",
              "1531                                          True   \n",
              "1532                                         False   \n",
              "1533                                         False   \n",
              "\n",
              "      ENDOWMENT ASSETS (YEAR END) PER FTE ENROLLMENT (GASB)  \\\n",
              "0                                                  True       \n",
              "1                                                 False       \n",
              "2                                                  True       \n",
              "3                                                 False       \n",
              "4                                                 False       \n",
              "...                                                 ...       \n",
              "1529                                              False       \n",
              "1530                                               True       \n",
              "1531                                               True       \n",
              "1532                                               True       \n",
              "1533                                               True       \n",
              "\n",
              "      ENDOWMENT ASSETS (YEAR END) PER FTE ENROLLMENT (FASB)  \n",
              "0                                                  True      \n",
              "1                                                  True      \n",
              "2                                                 False      \n",
              "3                                                  True      \n",
              "4                                                  True      \n",
              "...                                                 ...      \n",
              "1529                                               True      \n",
              "1530                                              False      \n",
              "1531                                              False      \n",
              "1532                                              False      \n",
              "1533                                               True      \n",
              "\n",
              "[1534 rows x 108 columns]"
            ],
            "text/html": [
              "\n",
              "  <div id=\"df-754ee933-b5fe-4d19-a65f-46d8ff69041d\">\n",
              "    <div class=\"colab-df-container\">\n",
              "      <div>\n",
              "<style scoped>\n",
              "    .dataframe tbody tr th:only-of-type {\n",
              "        vertical-align: middle;\n",
              "    }\n",
              "\n",
              "    .dataframe tbody tr th {\n",
              "        vertical-align: top;\n",
              "    }\n",
              "\n",
              "    .dataframe thead th {\n",
              "        text-align: right;\n",
              "    }\n",
              "</style>\n",
              "<table border=\"1\" class=\"dataframe\">\n",
              "  <thead>\n",
              "    <tr style=\"text-align: right;\">\n",
              "      <th></th>\n",
              "      <th>NAME</th>\n",
              "      <th>APPLICANTS TOTAL</th>\n",
              "      <th>ADMISSIONS TOTAL</th>\n",
              "      <th>ENROLLED TOTAL</th>\n",
              "      <th>PERCENT OF FRESHMEN SUBMITTING SAT SCORES</th>\n",
              "      <th>PERCENT OF FRESHMEN SUBMITTING ACT SCORES</th>\n",
              "      <th>SAT CRITICAL READING 25TH PERCENTILE SCORE</th>\n",
              "      <th>SAT CRITICAL READING 75TH PERCENTILE SCORE</th>\n",
              "      <th>SAT MATH 25TH PERCENTILE SCORE</th>\n",
              "      <th>SAT MATH 75TH PERCENTILE SCORE</th>\n",
              "      <th>...</th>\n",
              "      <th>PERCENT OF FRESHMEN  RECEIVING FEDERAL GRANT AID</th>\n",
              "      <th>PERCENT OF FRESHMEN RECEIVING PELL GRANTS</th>\n",
              "      <th>PERCENT OF FRESHMEN RECEIVING OTHER FEDERAL GRANT AID</th>\n",
              "      <th>PERCENT OF FRESHMEN RECEIVING STATE/LOCAL GRANT AID</th>\n",
              "      <th>PERCENT OF FRESHMEN RECEIVING INSTITUTIONAL GRANT AID</th>\n",
              "      <th>PERCENT OF FRESHMEN RECEIVING STUDENT LOAN AID</th>\n",
              "      <th>PERCENT OF FRESHMEN RECEIVING FEDERAL STUDENT LOANS</th>\n",
              "      <th>PERCENT OF FRESHMEN RECEIVING OTHER LOAN AID</th>\n",
              "      <th>ENDOWMENT ASSETS (YEAR END) PER FTE ENROLLMENT (GASB)</th>\n",
              "      <th>ENDOWMENT ASSETS (YEAR END) PER FTE ENROLLMENT (FASB)</th>\n",
              "    </tr>\n",
              "  </thead>\n",
              "  <tbody>\n",
              "    <tr>\n",
              "      <th>0</th>\n",
              "      <td>False</td>\n",
              "      <td>False</td>\n",
              "      <td>False</td>\n",
              "      <td>False</td>\n",
              "      <td>False</td>\n",
              "      <td>False</td>\n",
              "      <td>False</td>\n",
              "      <td>False</td>\n",
              "      <td>False</td>\n",
              "      <td>False</td>\n",
              "      <td>...</td>\n",
              "      <td>False</td>\n",
              "      <td>False</td>\n",
              "      <td>False</td>\n",
              "      <td>False</td>\n",
              "      <td>False</td>\n",
              "      <td>False</td>\n",
              "      <td>False</td>\n",
              "      <td>False</td>\n",
              "      <td>True</td>\n",
              "      <td>True</td>\n",
              "    </tr>\n",
              "    <tr>\n",
              "      <th>1</th>\n",
              "      <td>False</td>\n",
              "      <td>False</td>\n",
              "      <td>False</td>\n",
              "      <td>False</td>\n",
              "      <td>False</td>\n",
              "      <td>False</td>\n",
              "      <td>False</td>\n",
              "      <td>False</td>\n",
              "      <td>False</td>\n",
              "      <td>False</td>\n",
              "      <td>...</td>\n",
              "      <td>False</td>\n",
              "      <td>False</td>\n",
              "      <td>False</td>\n",
              "      <td>False</td>\n",
              "      <td>False</td>\n",
              "      <td>False</td>\n",
              "      <td>False</td>\n",
              "      <td>False</td>\n",
              "      <td>False</td>\n",
              "      <td>True</td>\n",
              "    </tr>\n",
              "    <tr>\n",
              "      <th>2</th>\n",
              "      <td>False</td>\n",
              "      <td>True</td>\n",
              "      <td>True</td>\n",
              "      <td>True</td>\n",
              "      <td>True</td>\n",
              "      <td>True</td>\n",
              "      <td>True</td>\n",
              "      <td>True</td>\n",
              "      <td>True</td>\n",
              "      <td>True</td>\n",
              "      <td>...</td>\n",
              "      <td>False</td>\n",
              "      <td>False</td>\n",
              "      <td>False</td>\n",
              "      <td>False</td>\n",
              "      <td>False</td>\n",
              "      <td>False</td>\n",
              "      <td>False</td>\n",
              "      <td>False</td>\n",
              "      <td>True</td>\n",
              "      <td>False</td>\n",
              "    </tr>\n",
              "    <tr>\n",
              "      <th>3</th>\n",
              "      <td>False</td>\n",
              "      <td>False</td>\n",
              "      <td>False</td>\n",
              "      <td>False</td>\n",
              "      <td>False</td>\n",
              "      <td>False</td>\n",
              "      <td>False</td>\n",
              "      <td>False</td>\n",
              "      <td>False</td>\n",
              "      <td>False</td>\n",
              "      <td>...</td>\n",
              "      <td>False</td>\n",
              "      <td>False</td>\n",
              "      <td>False</td>\n",
              "      <td>False</td>\n",
              "      <td>False</td>\n",
              "      <td>False</td>\n",
              "      <td>False</td>\n",
              "      <td>False</td>\n",
              "      <td>False</td>\n",
              "      <td>True</td>\n",
              "    </tr>\n",
              "    <tr>\n",
              "      <th>4</th>\n",
              "      <td>False</td>\n",
              "      <td>False</td>\n",
              "      <td>False</td>\n",
              "      <td>False</td>\n",
              "      <td>False</td>\n",
              "      <td>False</td>\n",
              "      <td>False</td>\n",
              "      <td>False</td>\n",
              "      <td>False</td>\n",
              "      <td>False</td>\n",
              "      <td>...</td>\n",
              "      <td>False</td>\n",
              "      <td>False</td>\n",
              "      <td>False</td>\n",
              "      <td>False</td>\n",
              "      <td>False</td>\n",
              "      <td>False</td>\n",
              "      <td>False</td>\n",
              "      <td>False</td>\n",
              "      <td>False</td>\n",
              "      <td>True</td>\n",
              "    </tr>\n",
              "    <tr>\n",
              "      <th>...</th>\n",
              "      <td>...</td>\n",
              "      <td>...</td>\n",
              "      <td>...</td>\n",
              "      <td>...</td>\n",
              "      <td>...</td>\n",
              "      <td>...</td>\n",
              "      <td>...</td>\n",
              "      <td>...</td>\n",
              "      <td>...</td>\n",
              "      <td>...</td>\n",
              "      <td>...</td>\n",
              "      <td>...</td>\n",
              "      <td>...</td>\n",
              "      <td>...</td>\n",
              "      <td>...</td>\n",
              "      <td>...</td>\n",
              "      <td>...</td>\n",
              "      <td>...</td>\n",
              "      <td>...</td>\n",
              "      <td>...</td>\n",
              "      <td>...</td>\n",
              "    </tr>\n",
              "    <tr>\n",
              "      <th>1529</th>\n",
              "      <td>False</td>\n",
              "      <td>False</td>\n",
              "      <td>False</td>\n",
              "      <td>False</td>\n",
              "      <td>False</td>\n",
              "      <td>False</td>\n",
              "      <td>False</td>\n",
              "      <td>False</td>\n",
              "      <td>False</td>\n",
              "      <td>False</td>\n",
              "      <td>...</td>\n",
              "      <td>True</td>\n",
              "      <td>True</td>\n",
              "      <td>True</td>\n",
              "      <td>True</td>\n",
              "      <td>True</td>\n",
              "      <td>True</td>\n",
              "      <td>True</td>\n",
              "      <td>True</td>\n",
              "      <td>False</td>\n",
              "      <td>True</td>\n",
              "    </tr>\n",
              "    <tr>\n",
              "      <th>1530</th>\n",
              "      <td>False</td>\n",
              "      <td>False</td>\n",
              "      <td>False</td>\n",
              "      <td>False</td>\n",
              "      <td>False</td>\n",
              "      <td>False</td>\n",
              "      <td>False</td>\n",
              "      <td>False</td>\n",
              "      <td>False</td>\n",
              "      <td>False</td>\n",
              "      <td>...</td>\n",
              "      <td>False</td>\n",
              "      <td>False</td>\n",
              "      <td>False</td>\n",
              "      <td>False</td>\n",
              "      <td>False</td>\n",
              "      <td>False</td>\n",
              "      <td>False</td>\n",
              "      <td>False</td>\n",
              "      <td>True</td>\n",
              "      <td>False</td>\n",
              "    </tr>\n",
              "    <tr>\n",
              "      <th>1531</th>\n",
              "      <td>False</td>\n",
              "      <td>True</td>\n",
              "      <td>True</td>\n",
              "      <td>True</td>\n",
              "      <td>True</td>\n",
              "      <td>True</td>\n",
              "      <td>True</td>\n",
              "      <td>True</td>\n",
              "      <td>True</td>\n",
              "      <td>True</td>\n",
              "      <td>...</td>\n",
              "      <td>True</td>\n",
              "      <td>True</td>\n",
              "      <td>True</td>\n",
              "      <td>True</td>\n",
              "      <td>True</td>\n",
              "      <td>True</td>\n",
              "      <td>True</td>\n",
              "      <td>True</td>\n",
              "      <td>True</td>\n",
              "      <td>False</td>\n",
              "    </tr>\n",
              "    <tr>\n",
              "      <th>1532</th>\n",
              "      <td>False</td>\n",
              "      <td>False</td>\n",
              "      <td>False</td>\n",
              "      <td>False</td>\n",
              "      <td>True</td>\n",
              "      <td>True</td>\n",
              "      <td>True</td>\n",
              "      <td>True</td>\n",
              "      <td>True</td>\n",
              "      <td>True</td>\n",
              "      <td>...</td>\n",
              "      <td>False</td>\n",
              "      <td>False</td>\n",
              "      <td>False</td>\n",
              "      <td>False</td>\n",
              "      <td>False</td>\n",
              "      <td>False</td>\n",
              "      <td>False</td>\n",
              "      <td>False</td>\n",
              "      <td>True</td>\n",
              "      <td>False</td>\n",
              "    </tr>\n",
              "    <tr>\n",
              "      <th>1533</th>\n",
              "      <td>False</td>\n",
              "      <td>True</td>\n",
              "      <td>True</td>\n",
              "      <td>True</td>\n",
              "      <td>True</td>\n",
              "      <td>True</td>\n",
              "      <td>True</td>\n",
              "      <td>True</td>\n",
              "      <td>True</td>\n",
              "      <td>True</td>\n",
              "      <td>...</td>\n",
              "      <td>False</td>\n",
              "      <td>False</td>\n",
              "      <td>False</td>\n",
              "      <td>False</td>\n",
              "      <td>False</td>\n",
              "      <td>False</td>\n",
              "      <td>False</td>\n",
              "      <td>False</td>\n",
              "      <td>True</td>\n",
              "      <td>True</td>\n",
              "    </tr>\n",
              "  </tbody>\n",
              "</table>\n",
              "<p>1534 rows × 108 columns</p>\n",
              "</div>\n",
              "      <button class=\"colab-df-convert\" onclick=\"convertToInteractive('df-754ee933-b5fe-4d19-a65f-46d8ff69041d')\"\n",
              "              title=\"Convert this dataframe to an interactive table.\"\n",
              "              style=\"display:none;\">\n",
              "        \n",
              "  <svg xmlns=\"http://www.w3.org/2000/svg\" height=\"24px\"viewBox=\"0 0 24 24\"\n",
              "       width=\"24px\">\n",
              "    <path d=\"M0 0h24v24H0V0z\" fill=\"none\"/>\n",
              "    <path d=\"M18.56 5.44l.94 2.06.94-2.06 2.06-.94-2.06-.94-.94-2.06-.94 2.06-2.06.94zm-11 1L8.5 8.5l.94-2.06 2.06-.94-2.06-.94L8.5 2.5l-.94 2.06-2.06.94zm10 10l.94 2.06.94-2.06 2.06-.94-2.06-.94-.94-2.06-.94 2.06-2.06.94z\"/><path d=\"M17.41 7.96l-1.37-1.37c-.4-.4-.92-.59-1.43-.59-.52 0-1.04.2-1.43.59L10.3 9.45l-7.72 7.72c-.78.78-.78 2.05 0 2.83L4 21.41c.39.39.9.59 1.41.59.51 0 1.02-.2 1.41-.59l7.78-7.78 2.81-2.81c.8-.78.8-2.07 0-2.86zM5.41 20L4 18.59l7.72-7.72 1.47 1.35L5.41 20z\"/>\n",
              "  </svg>\n",
              "      </button>\n",
              "      \n",
              "  <style>\n",
              "    .colab-df-container {\n",
              "      display:flex;\n",
              "      flex-wrap:wrap;\n",
              "      gap: 12px;\n",
              "    }\n",
              "\n",
              "    .colab-df-convert {\n",
              "      background-color: #E8F0FE;\n",
              "      border: none;\n",
              "      border-radius: 50%;\n",
              "      cursor: pointer;\n",
              "      display: none;\n",
              "      fill: #1967D2;\n",
              "      height: 32px;\n",
              "      padding: 0 0 0 0;\n",
              "      width: 32px;\n",
              "    }\n",
              "\n",
              "    .colab-df-convert:hover {\n",
              "      background-color: #E2EBFA;\n",
              "      box-shadow: 0px 1px 2px rgba(60, 64, 67, 0.3), 0px 1px 3px 1px rgba(60, 64, 67, 0.15);\n",
              "      fill: #174EA6;\n",
              "    }\n",
              "\n",
              "    [theme=dark] .colab-df-convert {\n",
              "      background-color: #3B4455;\n",
              "      fill: #D2E3FC;\n",
              "    }\n",
              "\n",
              "    [theme=dark] .colab-df-convert:hover {\n",
              "      background-color: #434B5C;\n",
              "      box-shadow: 0px 1px 3px 1px rgba(0, 0, 0, 0.15);\n",
              "      filter: drop-shadow(0px 1px 2px rgba(0, 0, 0, 0.3));\n",
              "      fill: #FFFFFF;\n",
              "    }\n",
              "  </style>\n",
              "\n",
              "      <script>\n",
              "        const buttonEl =\n",
              "          document.querySelector('#df-754ee933-b5fe-4d19-a65f-46d8ff69041d button.colab-df-convert');\n",
              "        buttonEl.style.display =\n",
              "          google.colab.kernel.accessAllowed ? 'block' : 'none';\n",
              "\n",
              "        async function convertToInteractive(key) {\n",
              "          const element = document.querySelector('#df-754ee933-b5fe-4d19-a65f-46d8ff69041d');\n",
              "          const dataTable =\n",
              "            await google.colab.kernel.invokeFunction('convertToInteractive',\n",
              "                                                     [key], {});\n",
              "          if (!dataTable) return;\n",
              "\n",
              "          const docLinkHtml = 'Like what you see? Visit the ' +\n",
              "            '<a target=\"_blank\" href=https://colab.research.google.com/notebooks/data_table.ipynb>data table notebook</a>'\n",
              "            + ' to learn more about interactive tables.';\n",
              "          element.innerHTML = '';\n",
              "          dataTable['output_type'] = 'display_data';\n",
              "          await google.colab.output.renderOutput(dataTable, element);\n",
              "          const docLink = document.createElement('div');\n",
              "          docLink.innerHTML = docLinkHtml;\n",
              "          element.appendChild(docLink);\n",
              "        }\n",
              "      </script>\n",
              "    </div>\n",
              "  </div>\n",
              "  "
            ]
          },
          "metadata": {},
          "execution_count": 5
        }
      ]
    },
    {
      "cell_type": "code",
      "source": [
        "#Columns with NaN using boolean\n",
        "df.isnull().any()"
      ],
      "metadata": {
        "colab": {
          "base_uri": "https://localhost:8080/"
        },
        "id": "9T_lvvMgraNJ",
        "outputId": "0b6aac46-034c-4a0a-9bd5-8139bc5157ac"
      },
      "execution_count": null,
      "outputs": [
        {
          "output_type": "execute_result",
          "data": {
            "text/plain": [
              "NAME                                                     False\n",
              "APPLICANTS TOTAL                                          True\n",
              "ADMISSIONS TOTAL                                          True\n",
              "ENROLLED TOTAL                                            True\n",
              "PERCENT OF FRESHMEN SUBMITTING SAT SCORES                 True\n",
              "                                                         ...  \n",
              "PERCENT OF FRESHMEN RECEIVING STUDENT LOAN AID            True\n",
              "PERCENT OF FRESHMEN RECEIVING FEDERAL STUDENT LOANS       True\n",
              "PERCENT OF FRESHMEN RECEIVING OTHER LOAN AID              True\n",
              "ENDOWMENT ASSETS (YEAR END) PER FTE ENROLLMENT (GASB)     True\n",
              "ENDOWMENT ASSETS (YEAR END) PER FTE ENROLLMENT (FASB)     True\n",
              "Length: 108, dtype: bool"
            ]
          },
          "metadata": {},
          "execution_count": 6
        }
      ]
    },
    {
      "cell_type": "code",
      "source": [
        "#Columns with NaN using integer\n",
        "df.isnull().sum()"
      ],
      "metadata": {
        "colab": {
          "base_uri": "https://localhost:8080/"
        },
        "id": "lLlzCQ2srqOJ",
        "outputId": "91c7db07-9507-45a4-c98d-5c01c5f8dac7"
      },
      "execution_count": null,
      "outputs": [
        {
          "output_type": "execute_result",
          "data": {
            "text/plain": [
              "NAME                                                        0\n",
              "APPLICANTS TOTAL                                          157\n",
              "ADMISSIONS TOTAL                                          157\n",
              "ENROLLED TOTAL                                            157\n",
              "PERCENT OF FRESHMEN SUBMITTING SAT SCORES                 277\n",
              "                                                         ... \n",
              "PERCENT OF FRESHMEN RECEIVING STUDENT LOAN AID             42\n",
              "PERCENT OF FRESHMEN RECEIVING FEDERAL STUDENT LOANS        42\n",
              "PERCENT OF FRESHMEN RECEIVING OTHER LOAN AID               42\n",
              "ENDOWMENT ASSETS (YEAR END) PER FTE ENROLLMENT (GASB)    1018\n",
              "ENDOWMENT ASSETS (YEAR END) PER FTE ENROLLMENT (FASB)     574\n",
              "Length: 108, dtype: int64"
            ]
          },
          "metadata": {},
          "execution_count": 7
        }
      ]
    },
    {
      "cell_type": "code",
      "source": [
        "#Columns with NaN using True/False\n",
        "#False means it doesn't have a NaN\n",
        "#For entire dataset/dataframe\n",
        "df.isnull().any().any()"
      ],
      "metadata": {
        "colab": {
          "base_uri": "https://localhost:8080/"
        },
        "id": "_pbqHxWdrymD",
        "outputId": "728f14c8-980f-4153-a412-f8d11198a352"
      },
      "execution_count": null,
      "outputs": [
        {
          "output_type": "execute_result",
          "data": {
            "text/plain": [
              "True"
            ]
          },
          "metadata": {},
          "execution_count": 18
        }
      ]
    },
    {
      "cell_type": "code",
      "source": [
        "#Total number of missing NaN's\n",
        "df.isnull().sum().sum()"
      ],
      "metadata": {
        "colab": {
          "base_uri": "https://localhost:8080/"
        },
        "id": "BAKuSwjXr41C",
        "outputId": "76acf23e-962e-4b6c-fe76-589a7f28ef4c"
      },
      "execution_count": null,
      "outputs": [
        {
          "output_type": "execute_result",
          "data": {
            "text/plain": [
              "16275"
            ]
          },
          "metadata": {},
          "execution_count": 19
        }
      ]
    },
    {
      "cell_type": "markdown",
      "source": [
        "1. Adding a default value or filling the missing data"
      ],
      "metadata": {
        "id": "_hyFY7BksNgx"
      }
    },
    {
      "cell_type": "code",
      "source": [
        "df.head()"
      ],
      "metadata": {
        "colab": {
          "base_uri": "https://localhost:8080/",
          "height": 586
        },
        "id": "_rWzais_r9a1",
        "outputId": "5d99a354-a3f1-4cd2-f29d-9b5739a5c719"
      },
      "execution_count": null,
      "outputs": [
        {
          "output_type": "execute_result",
          "data": {
            "text/plain": [
              "                                  NAME  APPLICANTS TOTAL  ADMISSIONS_TOTAL  \\\n",
              "0             Alabama A & M University            6142.0            5521.0   \n",
              "1  University of Alabama at Birmingham            5689.0            4934.0   \n",
              "2                   Amridge University               NaN               NaN   \n",
              "3  University of Alabama in Huntsville            2054.0            1656.0   \n",
              "4             Alabama State University           10245.0            5251.0   \n",
              "\n",
              "   ENROLLED TOTAL  PERCENT OF FRESHMEN SUBMITTING SAT SCORES  \\\n",
              "0          1104.0                                       15.0   \n",
              "1          1773.0                                        6.0   \n",
              "2             NaN                                        NaN   \n",
              "3           651.0                                       34.0   \n",
              "4          1479.0                                       18.0   \n",
              "\n",
              "   PERCENT OF FRESHMEN SUBMITTING ACT SCORES  \\\n",
              "0                                       88.0   \n",
              "1                                       93.0   \n",
              "2                                        NaN   \n",
              "3                                       94.0   \n",
              "4                                       87.0   \n",
              "\n",
              "   SAT CRITICAL READING 25TH PERCENTILE SCORE  \\\n",
              "0                                       370.0   \n",
              "1                                       520.0   \n",
              "2                                         NaN   \n",
              "3                                       510.0   \n",
              "4                                       380.0   \n",
              "\n",
              "   SAT CRITICAL READING 75TH PERCENTILE SCORE  SAT MATH 25TH PERCENTILE SCORE  \\\n",
              "0                                       450.0                           350.0   \n",
              "1                                       640.0                           520.0   \n",
              "2                                         NaN                             NaN   \n",
              "3                                       640.0                           510.0   \n",
              "4                                       480.0                           370.0   \n",
              "\n",
              "   SAT MATH 75TH PERCENTILE SCORE  ...  \\\n",
              "0                           450.0  ...   \n",
              "1                           650.0  ...   \n",
              "2                             NaN  ...   \n",
              "3                           650.0  ...   \n",
              "4                           480.0  ...   \n",
              "\n",
              "   PERCENT OF FRESHMEN  RECEIVING FEDERAL GRANT AID  \\\n",
              "0                                              81.0   \n",
              "1                                              36.0   \n",
              "2                                              90.0   \n",
              "3                                              31.0   \n",
              "4                                              76.0   \n",
              "\n",
              "   PERCENT OF FRESHMEN RECEIVING PELL GRANTS  \\\n",
              "0                                       81.0   \n",
              "1                                       36.0   \n",
              "2                                       90.0   \n",
              "3                                       31.0   \n",
              "4                                       76.0   \n",
              "\n",
              "   PERCENT OF FRESHMEN RECEIVING OTHER FEDERAL GRANT AID  \\\n",
              "0                                                7.0       \n",
              "1                                               10.0       \n",
              "2                                                0.0       \n",
              "3                                                4.0       \n",
              "4                                               13.0       \n",
              "\n",
              "   PERCENT OF FRESHMEN RECEIVING STATE/LOCAL GRANT AID  \\\n",
              "0                                                1.0     \n",
              "1                                                0.0     \n",
              "2                                               40.0     \n",
              "3                                                1.0     \n",
              "4                                               11.0     \n",
              "\n",
              "   PERCENT OF FRESHMEN RECEIVING INSTITUTIONAL GRANT AID  \\\n",
              "0                                               32.0       \n",
              "1                                               60.0       \n",
              "2                                               90.0       \n",
              "3                                               63.0       \n",
              "4                                               34.0       \n",
              "\n",
              "   PERCENT OF FRESHMEN RECEIVING STUDENT LOAN AID  \\\n",
              "0                                            89.0   \n",
              "1                                            56.0   \n",
              "2                                           100.0   \n",
              "3                                            46.0   \n",
              "4                                            81.0   \n",
              "\n",
              "   PERCENT OF FRESHMEN RECEIVING FEDERAL STUDENT LOANS  \\\n",
              "0                                               89.0     \n",
              "1                                               55.0     \n",
              "2                                              100.0     \n",
              "3                                               46.0     \n",
              "4                                               81.0     \n",
              "\n",
              "   PERCENT OF FRESHMEN RECEIVING OTHER LOAN AID  \\\n",
              "0                                           1.0   \n",
              "1                                           5.0   \n",
              "2                                           0.0   \n",
              "3                                           3.0   \n",
              "4                                           0.0   \n",
              "\n",
              "   ENDOWMENT ASSETS (YEAR END) PER FTE ENROLLMENT (GASB)  \\\n",
              "0                                                NaN       \n",
              "1                                            24136.0       \n",
              "2                                                NaN       \n",
              "3                                            11502.0       \n",
              "4                                            13202.0       \n",
              "\n",
              "   ENDOWMENT ASSETS (YEAR END) PER FTE ENROLLMENT (FASB)  \n",
              "0                                                NaN      \n",
              "1                                                NaN      \n",
              "2                                              302.0      \n",
              "3                                                NaN      \n",
              "4                                                NaN      \n",
              "\n",
              "[5 rows x 108 columns]"
            ],
            "text/html": [
              "\n",
              "  <div id=\"df-e60910ff-3aef-4881-b7a2-341bd18a32e1\">\n",
              "    <div class=\"colab-df-container\">\n",
              "      <div>\n",
              "<style scoped>\n",
              "    .dataframe tbody tr th:only-of-type {\n",
              "        vertical-align: middle;\n",
              "    }\n",
              "\n",
              "    .dataframe tbody tr th {\n",
              "        vertical-align: top;\n",
              "    }\n",
              "\n",
              "    .dataframe thead th {\n",
              "        text-align: right;\n",
              "    }\n",
              "</style>\n",
              "<table border=\"1\" class=\"dataframe\">\n",
              "  <thead>\n",
              "    <tr style=\"text-align: right;\">\n",
              "      <th></th>\n",
              "      <th>NAME</th>\n",
              "      <th>APPLICANTS TOTAL</th>\n",
              "      <th>ADMISSIONS_TOTAL</th>\n",
              "      <th>ENROLLED TOTAL</th>\n",
              "      <th>PERCENT OF FRESHMEN SUBMITTING SAT SCORES</th>\n",
              "      <th>PERCENT OF FRESHMEN SUBMITTING ACT SCORES</th>\n",
              "      <th>SAT CRITICAL READING 25TH PERCENTILE SCORE</th>\n",
              "      <th>SAT CRITICAL READING 75TH PERCENTILE SCORE</th>\n",
              "      <th>SAT MATH 25TH PERCENTILE SCORE</th>\n",
              "      <th>SAT MATH 75TH PERCENTILE SCORE</th>\n",
              "      <th>...</th>\n",
              "      <th>PERCENT OF FRESHMEN  RECEIVING FEDERAL GRANT AID</th>\n",
              "      <th>PERCENT OF FRESHMEN RECEIVING PELL GRANTS</th>\n",
              "      <th>PERCENT OF FRESHMEN RECEIVING OTHER FEDERAL GRANT AID</th>\n",
              "      <th>PERCENT OF FRESHMEN RECEIVING STATE/LOCAL GRANT AID</th>\n",
              "      <th>PERCENT OF FRESHMEN RECEIVING INSTITUTIONAL GRANT AID</th>\n",
              "      <th>PERCENT OF FRESHMEN RECEIVING STUDENT LOAN AID</th>\n",
              "      <th>PERCENT OF FRESHMEN RECEIVING FEDERAL STUDENT LOANS</th>\n",
              "      <th>PERCENT OF FRESHMEN RECEIVING OTHER LOAN AID</th>\n",
              "      <th>ENDOWMENT ASSETS (YEAR END) PER FTE ENROLLMENT (GASB)</th>\n",
              "      <th>ENDOWMENT ASSETS (YEAR END) PER FTE ENROLLMENT (FASB)</th>\n",
              "    </tr>\n",
              "  </thead>\n",
              "  <tbody>\n",
              "    <tr>\n",
              "      <th>0</th>\n",
              "      <td>Alabama A &amp; M University</td>\n",
              "      <td>6142.0</td>\n",
              "      <td>5521.0</td>\n",
              "      <td>1104.0</td>\n",
              "      <td>15.0</td>\n",
              "      <td>88.0</td>\n",
              "      <td>370.0</td>\n",
              "      <td>450.0</td>\n",
              "      <td>350.0</td>\n",
              "      <td>450.0</td>\n",
              "      <td>...</td>\n",
              "      <td>81.0</td>\n",
              "      <td>81.0</td>\n",
              "      <td>7.0</td>\n",
              "      <td>1.0</td>\n",
              "      <td>32.0</td>\n",
              "      <td>89.0</td>\n",
              "      <td>89.0</td>\n",
              "      <td>1.0</td>\n",
              "      <td>NaN</td>\n",
              "      <td>NaN</td>\n",
              "    </tr>\n",
              "    <tr>\n",
              "      <th>1</th>\n",
              "      <td>University of Alabama at Birmingham</td>\n",
              "      <td>5689.0</td>\n",
              "      <td>4934.0</td>\n",
              "      <td>1773.0</td>\n",
              "      <td>6.0</td>\n",
              "      <td>93.0</td>\n",
              "      <td>520.0</td>\n",
              "      <td>640.0</td>\n",
              "      <td>520.0</td>\n",
              "      <td>650.0</td>\n",
              "      <td>...</td>\n",
              "      <td>36.0</td>\n",
              "      <td>36.0</td>\n",
              "      <td>10.0</td>\n",
              "      <td>0.0</td>\n",
              "      <td>60.0</td>\n",
              "      <td>56.0</td>\n",
              "      <td>55.0</td>\n",
              "      <td>5.0</td>\n",
              "      <td>24136.0</td>\n",
              "      <td>NaN</td>\n",
              "    </tr>\n",
              "    <tr>\n",
              "      <th>2</th>\n",
              "      <td>Amridge University</td>\n",
              "      <td>NaN</td>\n",
              "      <td>NaN</td>\n",
              "      <td>NaN</td>\n",
              "      <td>NaN</td>\n",
              "      <td>NaN</td>\n",
              "      <td>NaN</td>\n",
              "      <td>NaN</td>\n",
              "      <td>NaN</td>\n",
              "      <td>NaN</td>\n",
              "      <td>...</td>\n",
              "      <td>90.0</td>\n",
              "      <td>90.0</td>\n",
              "      <td>0.0</td>\n",
              "      <td>40.0</td>\n",
              "      <td>90.0</td>\n",
              "      <td>100.0</td>\n",
              "      <td>100.0</td>\n",
              "      <td>0.0</td>\n",
              "      <td>NaN</td>\n",
              "      <td>302.0</td>\n",
              "    </tr>\n",
              "    <tr>\n",
              "      <th>3</th>\n",
              "      <td>University of Alabama in Huntsville</td>\n",
              "      <td>2054.0</td>\n",
              "      <td>1656.0</td>\n",
              "      <td>651.0</td>\n",
              "      <td>34.0</td>\n",
              "      <td>94.0</td>\n",
              "      <td>510.0</td>\n",
              "      <td>640.0</td>\n",
              "      <td>510.0</td>\n",
              "      <td>650.0</td>\n",
              "      <td>...</td>\n",
              "      <td>31.0</td>\n",
              "      <td>31.0</td>\n",
              "      <td>4.0</td>\n",
              "      <td>1.0</td>\n",
              "      <td>63.0</td>\n",
              "      <td>46.0</td>\n",
              "      <td>46.0</td>\n",
              "      <td>3.0</td>\n",
              "      <td>11502.0</td>\n",
              "      <td>NaN</td>\n",
              "    </tr>\n",
              "    <tr>\n",
              "      <th>4</th>\n",
              "      <td>Alabama State University</td>\n",
              "      <td>10245.0</td>\n",
              "      <td>5251.0</td>\n",
              "      <td>1479.0</td>\n",
              "      <td>18.0</td>\n",
              "      <td>87.0</td>\n",
              "      <td>380.0</td>\n",
              "      <td>480.0</td>\n",
              "      <td>370.0</td>\n",
              "      <td>480.0</td>\n",
              "      <td>...</td>\n",
              "      <td>76.0</td>\n",
              "      <td>76.0</td>\n",
              "      <td>13.0</td>\n",
              "      <td>11.0</td>\n",
              "      <td>34.0</td>\n",
              "      <td>81.0</td>\n",
              "      <td>81.0</td>\n",
              "      <td>0.0</td>\n",
              "      <td>13202.0</td>\n",
              "      <td>NaN</td>\n",
              "    </tr>\n",
              "  </tbody>\n",
              "</table>\n",
              "<p>5 rows × 108 columns</p>\n",
              "</div>\n",
              "      <button class=\"colab-df-convert\" onclick=\"convertToInteractive('df-e60910ff-3aef-4881-b7a2-341bd18a32e1')\"\n",
              "              title=\"Convert this dataframe to an interactive table.\"\n",
              "              style=\"display:none;\">\n",
              "        \n",
              "  <svg xmlns=\"http://www.w3.org/2000/svg\" height=\"24px\"viewBox=\"0 0 24 24\"\n",
              "       width=\"24px\">\n",
              "    <path d=\"M0 0h24v24H0V0z\" fill=\"none\"/>\n",
              "    <path d=\"M18.56 5.44l.94 2.06.94-2.06 2.06-.94-2.06-.94-.94-2.06-.94 2.06-2.06.94zm-11 1L8.5 8.5l.94-2.06 2.06-.94-2.06-.94L8.5 2.5l-.94 2.06-2.06.94zm10 10l.94 2.06.94-2.06 2.06-.94-2.06-.94-.94-2.06-.94 2.06-2.06.94z\"/><path d=\"M17.41 7.96l-1.37-1.37c-.4-.4-.92-.59-1.43-.59-.52 0-1.04.2-1.43.59L10.3 9.45l-7.72 7.72c-.78.78-.78 2.05 0 2.83L4 21.41c.39.39.9.59 1.41.59.51 0 1.02-.2 1.41-.59l7.78-7.78 2.81-2.81c.8-.78.8-2.07 0-2.86zM5.41 20L4 18.59l7.72-7.72 1.47 1.35L5.41 20z\"/>\n",
              "  </svg>\n",
              "      </button>\n",
              "      \n",
              "  <style>\n",
              "    .colab-df-container {\n",
              "      display:flex;\n",
              "      flex-wrap:wrap;\n",
              "      gap: 12px;\n",
              "    }\n",
              "\n",
              "    .colab-df-convert {\n",
              "      background-color: #E8F0FE;\n",
              "      border: none;\n",
              "      border-radius: 50%;\n",
              "      cursor: pointer;\n",
              "      display: none;\n",
              "      fill: #1967D2;\n",
              "      height: 32px;\n",
              "      padding: 0 0 0 0;\n",
              "      width: 32px;\n",
              "    }\n",
              "\n",
              "    .colab-df-convert:hover {\n",
              "      background-color: #E2EBFA;\n",
              "      box-shadow: 0px 1px 2px rgba(60, 64, 67, 0.3), 0px 1px 3px 1px rgba(60, 64, 67, 0.15);\n",
              "      fill: #174EA6;\n",
              "    }\n",
              "\n",
              "    [theme=dark] .colab-df-convert {\n",
              "      background-color: #3B4455;\n",
              "      fill: #D2E3FC;\n",
              "    }\n",
              "\n",
              "    [theme=dark] .colab-df-convert:hover {\n",
              "      background-color: #434B5C;\n",
              "      box-shadow: 0px 1px 3px 1px rgba(0, 0, 0, 0.15);\n",
              "      filter: drop-shadow(0px 1px 2px rgba(0, 0, 0, 0.3));\n",
              "      fill: #FFFFFF;\n",
              "    }\n",
              "  </style>\n",
              "\n",
              "      <script>\n",
              "        const buttonEl =\n",
              "          document.querySelector('#df-e60910ff-3aef-4881-b7a2-341bd18a32e1 button.colab-df-convert');\n",
              "        buttonEl.style.display =\n",
              "          google.colab.kernel.accessAllowed ? 'block' : 'none';\n",
              "\n",
              "        async function convertToInteractive(key) {\n",
              "          const element = document.querySelector('#df-e60910ff-3aef-4881-b7a2-341bd18a32e1');\n",
              "          const dataTable =\n",
              "            await google.colab.kernel.invokeFunction('convertToInteractive',\n",
              "                                                     [key], {});\n",
              "          if (!dataTable) return;\n",
              "\n",
              "          const docLinkHtml = 'Like what you see? Visit the ' +\n",
              "            '<a target=\"_blank\" href=https://colab.research.google.com/notebooks/data_table.ipynb>data table notebook</a>'\n",
              "            + ' to learn more about interactive tables.';\n",
              "          element.innerHTML = '';\n",
              "          dataTable['output_type'] = 'display_data';\n",
              "          await google.colab.output.renderOutput(dataTable, element);\n",
              "          const docLink = document.createElement('div');\n",
              "          docLink.innerHTML = docLinkHtml;\n",
              "          element.appendChild(docLink);\n",
              "        }\n",
              "      </script>\n",
              "    </div>\n",
              "  </div>\n",
              "  "
            ]
          },
          "metadata": {},
          "execution_count": 20
        }
      ]
    },
    {
      "cell_type": "code",
      "source": [
        "#Filling with 0\n",
        "df_with_0 = df.fillna(0)\n",
        "df_with_0.head()"
      ],
      "metadata": {
        "colab": {
          "base_uri": "https://localhost:8080/",
          "height": 586
        },
        "id": "K-KSHjyCsi24",
        "outputId": "3eef9107-16a7-4da0-f5b1-b0cd7dcc6324"
      },
      "execution_count": null,
      "outputs": [
        {
          "output_type": "execute_result",
          "data": {
            "text/plain": [
              "                                  NAME  APPLICANTS TOTAL  ADMISSIONS TOTAL  \\\n",
              "0             Alabama A & M University            6142.0            5521.0   \n",
              "1  University of Alabama at Birmingham            5689.0            4934.0   \n",
              "2                   Amridge University               0.0               0.0   \n",
              "3  University of Alabama in Huntsville            2054.0            1656.0   \n",
              "4             Alabama State University           10245.0            5251.0   \n",
              "\n",
              "   ENROLLED TOTAL  PERCENT OF FRESHMEN SUBMITTING SAT SCORES  \\\n",
              "0          1104.0                                       15.0   \n",
              "1          1773.0                                        6.0   \n",
              "2             0.0                                        0.0   \n",
              "3           651.0                                       34.0   \n",
              "4          1479.0                                       18.0   \n",
              "\n",
              "   PERCENT OF FRESHMEN SUBMITTING ACT SCORES  \\\n",
              "0                                       88.0   \n",
              "1                                       93.0   \n",
              "2                                        0.0   \n",
              "3                                       94.0   \n",
              "4                                       87.0   \n",
              "\n",
              "   SAT CRITICAL READING 25TH PERCENTILE SCORE  \\\n",
              "0                                       370.0   \n",
              "1                                       520.0   \n",
              "2                                         0.0   \n",
              "3                                       510.0   \n",
              "4                                       380.0   \n",
              "\n",
              "   SAT CRITICAL READING 75TH PERCENTILE SCORE  SAT MATH 25TH PERCENTILE SCORE  \\\n",
              "0                                       450.0                           350.0   \n",
              "1                                       640.0                           520.0   \n",
              "2                                         0.0                             0.0   \n",
              "3                                       640.0                           510.0   \n",
              "4                                       480.0                           370.0   \n",
              "\n",
              "   SAT MATH 75TH PERCENTILE SCORE  ...  \\\n",
              "0                           450.0  ...   \n",
              "1                           650.0  ...   \n",
              "2                             0.0  ...   \n",
              "3                           650.0  ...   \n",
              "4                           480.0  ...   \n",
              "\n",
              "   PERCENT OF FRESHMEN  RECEIVING FEDERAL GRANT AID  \\\n",
              "0                                              81.0   \n",
              "1                                              36.0   \n",
              "2                                              90.0   \n",
              "3                                              31.0   \n",
              "4                                              76.0   \n",
              "\n",
              "   PERCENT OF FRESHMEN RECEIVING PELL GRANTS  \\\n",
              "0                                       81.0   \n",
              "1                                       36.0   \n",
              "2                                       90.0   \n",
              "3                                       31.0   \n",
              "4                                       76.0   \n",
              "\n",
              "   PERCENT OF FRESHMEN RECEIVING OTHER FEDERAL GRANT AID  \\\n",
              "0                                                7.0       \n",
              "1                                               10.0       \n",
              "2                                                0.0       \n",
              "3                                                4.0       \n",
              "4                                               13.0       \n",
              "\n",
              "   PERCENT OF FRESHMEN RECEIVING STATE/LOCAL GRANT AID  \\\n",
              "0                                                1.0     \n",
              "1                                                0.0     \n",
              "2                                               40.0     \n",
              "3                                                1.0     \n",
              "4                                               11.0     \n",
              "\n",
              "   PERCENT OF FRESHMEN RECEIVING INSTITUTIONAL GRANT AID  \\\n",
              "0                                               32.0       \n",
              "1                                               60.0       \n",
              "2                                               90.0       \n",
              "3                                               63.0       \n",
              "4                                               34.0       \n",
              "\n",
              "   PERCENT OF FRESHMEN RECEIVING STUDENT LOAN AID  \\\n",
              "0                                            89.0   \n",
              "1                                            56.0   \n",
              "2                                           100.0   \n",
              "3                                            46.0   \n",
              "4                                            81.0   \n",
              "\n",
              "   PERCENT OF FRESHMEN RECEIVING FEDERAL STUDENT LOANS  \\\n",
              "0                                               89.0     \n",
              "1                                               55.0     \n",
              "2                                              100.0     \n",
              "3                                               46.0     \n",
              "4                                               81.0     \n",
              "\n",
              "   PERCENT OF FRESHMEN RECEIVING OTHER LOAN AID  \\\n",
              "0                                           1.0   \n",
              "1                                           5.0   \n",
              "2                                           0.0   \n",
              "3                                           3.0   \n",
              "4                                           0.0   \n",
              "\n",
              "   ENDOWMENT ASSETS (YEAR END) PER FTE ENROLLMENT (GASB)  \\\n",
              "0                                                0.0       \n",
              "1                                            24136.0       \n",
              "2                                                0.0       \n",
              "3                                            11502.0       \n",
              "4                                            13202.0       \n",
              "\n",
              "   ENDOWMENT ASSETS (YEAR END) PER FTE ENROLLMENT (FASB)  \n",
              "0                                                0.0      \n",
              "1                                                0.0      \n",
              "2                                              302.0      \n",
              "3                                                0.0      \n",
              "4                                                0.0      \n",
              "\n",
              "[5 rows x 108 columns]"
            ],
            "text/html": [
              "\n",
              "  <div id=\"df-321a5cc4-e775-4abf-939e-5fda17f99a7b\">\n",
              "    <div class=\"colab-df-container\">\n",
              "      <div>\n",
              "<style scoped>\n",
              "    .dataframe tbody tr th:only-of-type {\n",
              "        vertical-align: middle;\n",
              "    }\n",
              "\n",
              "    .dataframe tbody tr th {\n",
              "        vertical-align: top;\n",
              "    }\n",
              "\n",
              "    .dataframe thead th {\n",
              "        text-align: right;\n",
              "    }\n",
              "</style>\n",
              "<table border=\"1\" class=\"dataframe\">\n",
              "  <thead>\n",
              "    <tr style=\"text-align: right;\">\n",
              "      <th></th>\n",
              "      <th>NAME</th>\n",
              "      <th>APPLICANTS TOTAL</th>\n",
              "      <th>ADMISSIONS TOTAL</th>\n",
              "      <th>ENROLLED TOTAL</th>\n",
              "      <th>PERCENT OF FRESHMEN SUBMITTING SAT SCORES</th>\n",
              "      <th>PERCENT OF FRESHMEN SUBMITTING ACT SCORES</th>\n",
              "      <th>SAT CRITICAL READING 25TH PERCENTILE SCORE</th>\n",
              "      <th>SAT CRITICAL READING 75TH PERCENTILE SCORE</th>\n",
              "      <th>SAT MATH 25TH PERCENTILE SCORE</th>\n",
              "      <th>SAT MATH 75TH PERCENTILE SCORE</th>\n",
              "      <th>...</th>\n",
              "      <th>PERCENT OF FRESHMEN  RECEIVING FEDERAL GRANT AID</th>\n",
              "      <th>PERCENT OF FRESHMEN RECEIVING PELL GRANTS</th>\n",
              "      <th>PERCENT OF FRESHMEN RECEIVING OTHER FEDERAL GRANT AID</th>\n",
              "      <th>PERCENT OF FRESHMEN RECEIVING STATE/LOCAL GRANT AID</th>\n",
              "      <th>PERCENT OF FRESHMEN RECEIVING INSTITUTIONAL GRANT AID</th>\n",
              "      <th>PERCENT OF FRESHMEN RECEIVING STUDENT LOAN AID</th>\n",
              "      <th>PERCENT OF FRESHMEN RECEIVING FEDERAL STUDENT LOANS</th>\n",
              "      <th>PERCENT OF FRESHMEN RECEIVING OTHER LOAN AID</th>\n",
              "      <th>ENDOWMENT ASSETS (YEAR END) PER FTE ENROLLMENT (GASB)</th>\n",
              "      <th>ENDOWMENT ASSETS (YEAR END) PER FTE ENROLLMENT (FASB)</th>\n",
              "    </tr>\n",
              "  </thead>\n",
              "  <tbody>\n",
              "    <tr>\n",
              "      <th>0</th>\n",
              "      <td>Alabama A &amp; M University</td>\n",
              "      <td>6142.0</td>\n",
              "      <td>5521.0</td>\n",
              "      <td>1104.0</td>\n",
              "      <td>15.0</td>\n",
              "      <td>88.0</td>\n",
              "      <td>370.0</td>\n",
              "      <td>450.0</td>\n",
              "      <td>350.0</td>\n",
              "      <td>450.0</td>\n",
              "      <td>...</td>\n",
              "      <td>81.0</td>\n",
              "      <td>81.0</td>\n",
              "      <td>7.0</td>\n",
              "      <td>1.0</td>\n",
              "      <td>32.0</td>\n",
              "      <td>89.0</td>\n",
              "      <td>89.0</td>\n",
              "      <td>1.0</td>\n",
              "      <td>0.0</td>\n",
              "      <td>0.0</td>\n",
              "    </tr>\n",
              "    <tr>\n",
              "      <th>1</th>\n",
              "      <td>University of Alabama at Birmingham</td>\n",
              "      <td>5689.0</td>\n",
              "      <td>4934.0</td>\n",
              "      <td>1773.0</td>\n",
              "      <td>6.0</td>\n",
              "      <td>93.0</td>\n",
              "      <td>520.0</td>\n",
              "      <td>640.0</td>\n",
              "      <td>520.0</td>\n",
              "      <td>650.0</td>\n",
              "      <td>...</td>\n",
              "      <td>36.0</td>\n",
              "      <td>36.0</td>\n",
              "      <td>10.0</td>\n",
              "      <td>0.0</td>\n",
              "      <td>60.0</td>\n",
              "      <td>56.0</td>\n",
              "      <td>55.0</td>\n",
              "      <td>5.0</td>\n",
              "      <td>24136.0</td>\n",
              "      <td>0.0</td>\n",
              "    </tr>\n",
              "    <tr>\n",
              "      <th>2</th>\n",
              "      <td>Amridge University</td>\n",
              "      <td>0.0</td>\n",
              "      <td>0.0</td>\n",
              "      <td>0.0</td>\n",
              "      <td>0.0</td>\n",
              "      <td>0.0</td>\n",
              "      <td>0.0</td>\n",
              "      <td>0.0</td>\n",
              "      <td>0.0</td>\n",
              "      <td>0.0</td>\n",
              "      <td>...</td>\n",
              "      <td>90.0</td>\n",
              "      <td>90.0</td>\n",
              "      <td>0.0</td>\n",
              "      <td>40.0</td>\n",
              "      <td>90.0</td>\n",
              "      <td>100.0</td>\n",
              "      <td>100.0</td>\n",
              "      <td>0.0</td>\n",
              "      <td>0.0</td>\n",
              "      <td>302.0</td>\n",
              "    </tr>\n",
              "    <tr>\n",
              "      <th>3</th>\n",
              "      <td>University of Alabama in Huntsville</td>\n",
              "      <td>2054.0</td>\n",
              "      <td>1656.0</td>\n",
              "      <td>651.0</td>\n",
              "      <td>34.0</td>\n",
              "      <td>94.0</td>\n",
              "      <td>510.0</td>\n",
              "      <td>640.0</td>\n",
              "      <td>510.0</td>\n",
              "      <td>650.0</td>\n",
              "      <td>...</td>\n",
              "      <td>31.0</td>\n",
              "      <td>31.0</td>\n",
              "      <td>4.0</td>\n",
              "      <td>1.0</td>\n",
              "      <td>63.0</td>\n",
              "      <td>46.0</td>\n",
              "      <td>46.0</td>\n",
              "      <td>3.0</td>\n",
              "      <td>11502.0</td>\n",
              "      <td>0.0</td>\n",
              "    </tr>\n",
              "    <tr>\n",
              "      <th>4</th>\n",
              "      <td>Alabama State University</td>\n",
              "      <td>10245.0</td>\n",
              "      <td>5251.0</td>\n",
              "      <td>1479.0</td>\n",
              "      <td>18.0</td>\n",
              "      <td>87.0</td>\n",
              "      <td>380.0</td>\n",
              "      <td>480.0</td>\n",
              "      <td>370.0</td>\n",
              "      <td>480.0</td>\n",
              "      <td>...</td>\n",
              "      <td>76.0</td>\n",
              "      <td>76.0</td>\n",
              "      <td>13.0</td>\n",
              "      <td>11.0</td>\n",
              "      <td>34.0</td>\n",
              "      <td>81.0</td>\n",
              "      <td>81.0</td>\n",
              "      <td>0.0</td>\n",
              "      <td>13202.0</td>\n",
              "      <td>0.0</td>\n",
              "    </tr>\n",
              "  </tbody>\n",
              "</table>\n",
              "<p>5 rows × 108 columns</p>\n",
              "</div>\n",
              "      <button class=\"colab-df-convert\" onclick=\"convertToInteractive('df-321a5cc4-e775-4abf-939e-5fda17f99a7b')\"\n",
              "              title=\"Convert this dataframe to an interactive table.\"\n",
              "              style=\"display:none;\">\n",
              "        \n",
              "  <svg xmlns=\"http://www.w3.org/2000/svg\" height=\"24px\"viewBox=\"0 0 24 24\"\n",
              "       width=\"24px\">\n",
              "    <path d=\"M0 0h24v24H0V0z\" fill=\"none\"/>\n",
              "    <path d=\"M18.56 5.44l.94 2.06.94-2.06 2.06-.94-2.06-.94-.94-2.06-.94 2.06-2.06.94zm-11 1L8.5 8.5l.94-2.06 2.06-.94-2.06-.94L8.5 2.5l-.94 2.06-2.06.94zm10 10l.94 2.06.94-2.06 2.06-.94-2.06-.94-.94-2.06-.94 2.06-2.06.94z\"/><path d=\"M17.41 7.96l-1.37-1.37c-.4-.4-.92-.59-1.43-.59-.52 0-1.04.2-1.43.59L10.3 9.45l-7.72 7.72c-.78.78-.78 2.05 0 2.83L4 21.41c.39.39.9.59 1.41.59.51 0 1.02-.2 1.41-.59l7.78-7.78 2.81-2.81c.8-.78.8-2.07 0-2.86zM5.41 20L4 18.59l7.72-7.72 1.47 1.35L5.41 20z\"/>\n",
              "  </svg>\n",
              "      </button>\n",
              "      \n",
              "  <style>\n",
              "    .colab-df-container {\n",
              "      display:flex;\n",
              "      flex-wrap:wrap;\n",
              "      gap: 12px;\n",
              "    }\n",
              "\n",
              "    .colab-df-convert {\n",
              "      background-color: #E8F0FE;\n",
              "      border: none;\n",
              "      border-radius: 50%;\n",
              "      cursor: pointer;\n",
              "      display: none;\n",
              "      fill: #1967D2;\n",
              "      height: 32px;\n",
              "      padding: 0 0 0 0;\n",
              "      width: 32px;\n",
              "    }\n",
              "\n",
              "    .colab-df-convert:hover {\n",
              "      background-color: #E2EBFA;\n",
              "      box-shadow: 0px 1px 2px rgba(60, 64, 67, 0.3), 0px 1px 3px 1px rgba(60, 64, 67, 0.15);\n",
              "      fill: #174EA6;\n",
              "    }\n",
              "\n",
              "    [theme=dark] .colab-df-convert {\n",
              "      background-color: #3B4455;\n",
              "      fill: #D2E3FC;\n",
              "    }\n",
              "\n",
              "    [theme=dark] .colab-df-convert:hover {\n",
              "      background-color: #434B5C;\n",
              "      box-shadow: 0px 1px 3px 1px rgba(0, 0, 0, 0.15);\n",
              "      filter: drop-shadow(0px 1px 2px rgba(0, 0, 0, 0.3));\n",
              "      fill: #FFFFFF;\n",
              "    }\n",
              "  </style>\n",
              "\n",
              "      <script>\n",
              "        const buttonEl =\n",
              "          document.querySelector('#df-321a5cc4-e775-4abf-939e-5fda17f99a7b button.colab-df-convert');\n",
              "        buttonEl.style.display =\n",
              "          google.colab.kernel.accessAllowed ? 'block' : 'none';\n",
              "\n",
              "        async function convertToInteractive(key) {\n",
              "          const element = document.querySelector('#df-321a5cc4-e775-4abf-939e-5fda17f99a7b');\n",
              "          const dataTable =\n",
              "            await google.colab.kernel.invokeFunction('convertToInteractive',\n",
              "                                                     [key], {});\n",
              "          if (!dataTable) return;\n",
              "\n",
              "          const docLinkHtml = 'Like what you see? Visit the ' +\n",
              "            '<a target=\"_blank\" href=https://colab.research.google.com/notebooks/data_table.ipynb>data table notebook</a>'\n",
              "            + ' to learn more about interactive tables.';\n",
              "          element.innerHTML = '';\n",
              "          dataTable['output_type'] = 'display_data';\n",
              "          await google.colab.output.renderOutput(dataTable, element);\n",
              "          const docLink = document.createElement('div');\n",
              "          docLink.innerHTML = docLinkHtml;\n",
              "          element.appendChild(docLink);\n",
              "        }\n",
              "      </script>\n",
              "    </div>\n",
              "  </div>\n",
              "  "
            ]
          },
          "metadata": {},
          "execution_count": 13
        }
      ]
    },
    {
      "cell_type": "code",
      "source": [
        "#Filling with mean\n",
        "df['ADMISSIONS_TOTAL'].mean()"
      ],
      "metadata": {
        "colab": {
          "base_uri": "https://localhost:8080/"
        },
        "id": "aWGT49rysu7A",
        "outputId": "47f673a1-1483-4d3f-b5f7-fabbeda12b46"
      },
      "execution_count": null,
      "outputs": [
        {
          "output_type": "execute_result",
          "data": {
            "text/plain": [
              "3554.880174291939"
            ]
          },
          "metadata": {},
          "execution_count": 21
        }
      ]
    },
    {
      "cell_type": "code",
      "source": [
        "df_with_mean = df.ADMISSIONS_TOTAL.fillna(df['ADMISSIONS_TOTAL'].mean())\n",
        "df_with_mean"
      ],
      "metadata": {
        "colab": {
          "base_uri": "https://localhost:8080/"
        },
        "id": "bOPToH7Fs9UW",
        "outputId": "9d39fa18-95a5-4a06-8148-35a8c5f7d582"
      },
      "execution_count": null,
      "outputs": [
        {
          "output_type": "execute_result",
          "data": {
            "text/plain": [
              "0       5521.000000\n",
              "1       4934.000000\n",
              "2       3554.880174\n",
              "3       1656.000000\n",
              "4       5251.000000\n",
              "           ...     \n",
              "1529     136.000000\n",
              "1530    2158.000000\n",
              "1531    3554.880174\n",
              "1532      65.000000\n",
              "1533    3554.880174\n",
              "Name: ADMISSIONS_TOTAL, Length: 1534, dtype: float64"
            ]
          },
          "metadata": {},
          "execution_count": 22
        }
      ]
    },
    {
      "cell_type": "markdown",
      "source": [
        "Dropping Null Values"
      ],
      "metadata": {
        "id": "08BfDV4fuPAA"
      }
    },
    {
      "cell_type": "code",
      "source": [
        "df_with_condition = df.dropna(how='any', thresh=100)"
      ],
      "metadata": {
        "id": "LCH7j9aqzO1l"
      },
      "execution_count": null,
      "outputs": []
    },
    {
      "cell_type": "code",
      "source": [
        "df_with_condition.shape"
      ],
      "metadata": {
        "colab": {
          "base_uri": "https://localhost:8080/"
        },
        "id": "iu9UYQSdzRAa",
        "outputId": "7edce076-a430-46c3-a951-1ec89b105964"
      },
      "execution_count": null,
      "outputs": [
        {
          "output_type": "execute_result",
          "data": {
            "text/plain": [
              "(707, 108)"
            ]
          },
          "metadata": {},
          "execution_count": 24
        }
      ]
    },
    {
      "cell_type": "code",
      "source": [
        "df_drop_column = df.dropna(axis=1)"
      ],
      "metadata": {
        "id": "2hyr5krFzqr4"
      },
      "execution_count": null,
      "outputs": []
    },
    {
      "cell_type": "code",
      "source": [
        "df_drop_column.shape"
      ],
      "metadata": {
        "colab": {
          "base_uri": "https://localhost:8080/"
        },
        "id": "9nZR7gOZzxHY",
        "outputId": "77b1b31d-5b06-40a7-862a-9d37c1288ea9"
      },
      "execution_count": null,
      "outputs": [
        {
          "output_type": "execute_result",
          "data": {
            "text/plain": [
              "(1534, 11)"
            ]
          },
          "metadata": {},
          "execution_count": 26
        }
      ]
    },
    {
      "cell_type": "code",
      "source": [
        "df_drop = df.dropna()\n",
        "df_drop.shape"
      ],
      "metadata": {
        "colab": {
          "base_uri": "https://localhost:8080/"
        },
        "id": "sjuPNXr_OF4o",
        "outputId": "5ac7d8ae-6c49-4065-ec1f-6744bae2ee39"
      },
      "execution_count": null,
      "outputs": [
        {
          "output_type": "execute_result",
          "data": {
            "text/plain": [
              "(0, 108)"
            ]
          },
          "metadata": {},
          "execution_count": 27
        }
      ]
    },
    {
      "cell_type": "markdown",
      "source": [
        "Dropping Duplicates\n",
        "\n",
        "1. drop_duplicates()\n",
        "2. keep='first'"
      ],
      "metadata": {
        "id": "_Pyru6J-z3X5"
      }
    },
    {
      "cell_type": "code",
      "source": [
        "df.duplicated()"
      ],
      "metadata": {
        "colab": {
          "base_uri": "https://localhost:8080/"
        },
        "id": "t3HjZPM0z6ba",
        "outputId": "6b7b98c5-c5a4-4bc5-bfd5-e1f0ebd577e2"
      },
      "execution_count": null,
      "outputs": [
        {
          "output_type": "execute_result",
          "data": {
            "text/plain": [
              "0       False\n",
              "1       False\n",
              "2       False\n",
              "3       False\n",
              "4       False\n",
              "        ...  \n",
              "1529    False\n",
              "1530    False\n",
              "1531    False\n",
              "1532    False\n",
              "1533    False\n",
              "Length: 1534, dtype: bool"
            ]
          },
          "metadata": {},
          "execution_count": 28
        }
      ]
    },
    {
      "cell_type": "code",
      "source": [
        "df.duplicated('ADMISSIONS_TOTAL')"
      ],
      "metadata": {
        "colab": {
          "base_uri": "https://localhost:8080/"
        },
        "id": "C1exM4LV0Tnt",
        "outputId": "8fd949cf-19a9-4c57-883b-5cfabe28badb"
      },
      "execution_count": null,
      "outputs": [
        {
          "output_type": "execute_result",
          "data": {
            "text/plain": [
              "0       False\n",
              "1       False\n",
              "2       False\n",
              "3       False\n",
              "4       False\n",
              "        ...  \n",
              "1529    False\n",
              "1530    False\n",
              "1531     True\n",
              "1532    False\n",
              "1533     True\n",
              "Length: 1534, dtype: bool"
            ]
          },
          "metadata": {},
          "execution_count": 29
        }
      ]
    },
    {
      "cell_type": "code",
      "source": [
        "df_drop_dup = df.drop_duplicates('ADMISSIONS_TOTAL')"
      ],
      "metadata": {
        "id": "xxtzVmKq0rua"
      },
      "execution_count": null,
      "outputs": []
    },
    {
      "cell_type": "code",
      "source": [
        "df_drop_dup.shape"
      ],
      "metadata": {
        "colab": {
          "base_uri": "https://localhost:8080/"
        },
        "id": "_05BKtg500IZ",
        "outputId": "cf3080ad-0a87-4bae-aac2-8899e4686190"
      },
      "execution_count": null,
      "outputs": [
        {
          "output_type": "execute_result",
          "data": {
            "text/plain": [
              "(1237, 108)"
            ]
          },
          "metadata": {},
          "execution_count": 31
        }
      ]
    },
    {
      "cell_type": "markdown",
      "source": [
        "# **3. DATA TYPE INCONSISTENCIES**"
      ],
      "metadata": {
        "id": "f5rQyCnA09ht"
      }
    },
    {
      "cell_type": "code",
      "source": [
        "df.dtypes"
      ],
      "metadata": {
        "id": "ELqxY7341EXe"
      },
      "execution_count": null,
      "outputs": []
    },
    {
      "cell_type": "markdown",
      "source": [
        "## VISUALIZATION "
      ],
      "metadata": {
        "id": "l6g81YiWro_U"
      }
    },
    {
      "cell_type": "code",
      "source": [
        "import matplotlib.pyplot as plt\n",
        "import numpy as np \n",
        "import pandas as pd "
      ],
      "metadata": {
        "id": "3Fxkg4FNtZhQ"
      },
      "execution_count": null,
      "outputs": []
    },
    {
      "cell_type": "markdown",
      "source": [
        "DOUBLE BAR GRAPH"
      ],
      "metadata": {
        "id": "1_DGnIi-yxVy"
      }
    },
    {
      "cell_type": "code",
      "source": [
        "plt.bar(df['PERCENT OF FRESHMEN SUBMITTING SAT SCORES'], df['ADMISSIONS_TOTAL'],color='skyblue',label='SAT SCORES')\n",
        "plt.bar(df['PERCENT OF FRESHMEN SUBMITTING ACT SCORES'], df['ADMISSIONS_TOTAL'],color='lightgreen',label='ACT SCORES')\n",
        "plt.xlabel('PERCENT OF FRESHMEN SUBMITTING SCORES')\n",
        "plt.ylabel('ADMISSIONS_TOTAL')\n",
        "plt.legend()\n",
        "plt.title('ADMISSIONS BASED ON SCORES')\n"
      ],
      "metadata": {
        "colab": {
          "base_uri": "https://localhost:8080/",
          "height": 312
        },
        "id": "Hf846yfTvdVF",
        "outputId": "468a999b-4f2f-41ca-890c-02d1a5dca10f"
      },
      "execution_count": null,
      "outputs": [
        {
          "output_type": "execute_result",
          "data": {
            "text/plain": [
              "Text(0.5, 1.0, 'ADMISSIONS BASED ON SCORES')"
            ]
          },
          "metadata": {},
          "execution_count": 34
        },
        {
          "output_type": "display_data",
          "data": {
            "text/plain": [
              "<Figure size 432x288 with 1 Axes>"
            ],
            "image/png": "[encoded data removed]"
          },
          "metadata": {
            "needs_background": "light"
          }
        }
      ]
    },
    {
      "cell_type": "code",
      "source": [
        "plt.plot(df['ENROLLED TOTAL']/df['ADMISSIONS_TOTAL']*100,color='hotpink')\n",
        "\n",
        "plt.xlabel('NAME')\n",
        "plt.ylabel('PERCENTAGE')\n",
        "plt.legend()\n",
        "plt.title('PERCENTAGE OF TOTAL ADMISSIONS TO TOTAL ENROLLED')\n"
      ],
      "metadata": {
        "colab": {
          "base_uri": "https://localhost:8080/",
          "height": 335
        },
        "id": "gWLmBloay3fI",
        "outputId": "c76cba52-e676-4305-ec59-7c5569bf10e4"
      },
      "execution_count": null,
      "outputs": [
        {
          "output_type": "stream",
          "name": "stderr",
          "text": [
            "WARNING:matplotlib.legend:No handles with labels found to put in legend.\n"
          ]
        },
        {
          "output_type": "execute_result",
          "data": {
            "text/plain": [
              "Text(0.5, 1.0, 'PERCENTAGE OF TOTAL ADMISSIONS TO TOTAL ENROLLED')"
            ]
          },
          "metadata": {},
          "execution_count": 87
        },
        {
          "output_type": "display_data",
          "data": {
            "text/plain": [
              "<Figure size 432x288 with 1 Axes>"
            ],
            "image/png": "[encoded data removed]"
          },
          "metadata": {}
        }
      ]
    },
    {
      "cell_type": "markdown",
      "source": [
        "SCATTER PLOT"
      ],
      "metadata": {
        "id": "jqrHxoWGy07N"
      }
    },
    {
      "cell_type": "code",
      "source": [
        "plt.scatter(df['SAT MATH 25TH PERCENTILE SCORE'], df['ENROLLED TOTAL'],color='pink',label='25TH PERCENTILE')\n",
        "plt.scatter(df['SAT MATH 75TH PERCENTILE SCORE'], df['ENROLLED TOTAL'],color='orange',label='75TH PERCENTILE')\n",
        "plt.xlabel('SAT MATH SCORES')\n",
        "plt.ylabel('ENROLLED TOTAL')\n",
        "plt.legend()"
      ],
      "metadata": {
        "colab": {
          "base_uri": "https://localhost:8080/",
          "height": 302
        },
        "id": "E85Po0fAvtVI",
        "outputId": "2b95293e-8903-43fe-df4d-fe9115404942"
      },
      "execution_count": null,
      "outputs": [
        {
          "output_type": "execute_result",
          "data": {
            "text/plain": [
              "<matplotlib.legend.Legend at 0x7f44de7cad90>"
            ]
          },
          "metadata": {},
          "execution_count": 90
        },
        {
          "output_type": "display_data",
          "data": {
            "text/plain": [
              "<Figure size 432x288 with 1 Axes>"
            ],
            "image/png": "[encoded data removed]"
          },
          "metadata": {}
        }
      ]
    },
    {
      "cell_type": "markdown",
      "source": [
        "LINE PLOT"
      ],
      "metadata": {
        "id": "iSorkOGM0YnA"
      }
    },
    {
      "cell_type": "code",
      "source": [
        "sns.kdeplot(df['ESTIMATED ENROLLMENT, TOTAL'], shade=True, color=\"r\")\n",
        "sns.kdeplot(df['ESTIMATED ENROLLMENT, FULL TIME'], shade=True, color=\"b\")\n",
        "sns.kdeplot(df['ESTIMATED ENROLLMENT, PART TIME'], shade=True, color=\"g\")"
      ],
      "metadata": {
        "colab": {
          "base_uri": "https://localhost:8080/",
          "height": 302
        },
        "id": "85nCIiZuwaAx",
        "outputId": "095d28fa-dcd6-4af2-dae4-4b977f71cc56"
      },
      "execution_count": null,
      "outputs": [
        {
          "output_type": "execute_result",
          "data": {
            "text/plain": [
              "<matplotlib.axes._subplots.AxesSubplot at 0x7f44de99b6d0>"
            ]
          },
          "metadata": {},
          "execution_count": 86
        },
        {
          "output_type": "display_data",
          "data": {
            "text/plain": [
              "<Figure size 432x288 with 1 Axes>"
            ],
            "image/png": "[encoded data removed]"
          },
          "metadata": {}
        }
      ]
    },
    {
      "cell_type": "code",
      "source": [
        "sns.kdeplot(df['SAT MATH 75TH PERCENTILE SCORE'], shade=True, color=\"r\")\n",
        "sns.kdeplot(df['SAT WRITING 75TH PERCENTILE SCORE'], shade=True, color=\"b\")"
      ],
      "metadata": {
        "id": "nrdLEpSx0OCH",
        "outputId": "6e5f85b9-2848-4f34-960c-2a9727b33426",
        "colab": {
          "base_uri": "https://localhost:8080/",
          "height": 302
        }
      },
      "execution_count": null,
      "outputs": [
        {
          "output_type": "execute_result",
          "data": {
            "text/plain": [
              "<matplotlib.axes._subplots.AxesSubplot at 0x7f44de81d8e0>"
            ]
          },
          "metadata": {},
          "execution_count": 91
        },
        {
          "output_type": "display_data",
          "data": {
            "text/plain": [
              "<Figure size 432x288 with 1 Axes>"
            ],
            "image/png": "[encoded data removed]"
          },
          "metadata": {}
        }
      ]
    }
  ]
}